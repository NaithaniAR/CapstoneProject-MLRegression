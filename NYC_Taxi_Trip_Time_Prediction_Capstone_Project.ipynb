{
  "cells": [
    {
      "cell_type": "markdown",
      "metadata": {
        "id": "view-in-github",
        "colab_type": "text"
      },
      "source": [
        "<a href=\"https://colab.research.google.com/github/NaithaniAR/NYC-Taxi-Trip-Time-Prediction---Capstone-Project.ipynb/blob/main/NYC_Taxi_Trip_Time_Prediction_Capstone_Project.ipynb\" target=\"_parent\"><img src=\"https://colab.research.google.com/assets/colab-badge.svg\" alt=\"Open In Colab\"/></a>"
      ]
    },
    {
      "cell_type": "markdown",
      "metadata": {
        "id": "tOGC-qoyhJeX"
      },
      "source": [
        "# <b><u> Project Title : Taxi trip time Prediction : Predicting total ride duration of taxi trips in New York City</u></b>"
      ]
    },
    {
      "cell_type": "markdown",
      "metadata": {
        "id": "Y06xIdG26kRF"
      },
      "source": [
        "## <b> Problem Description </b>\n",
        "\n",
        "### Your task is to build a model that predicts the total ride duration of taxi trips in New York City. Your primary dataset is one released by the NYC Taxi and Limousine Commission, which includes pickup time, geo-coordinates, number of passengers, and several other variables."
      ]
    },
    {
      "cell_type": "markdown",
      "metadata": {
        "id": "WWeU1f9bwqQq"
      },
      "source": [
        "## <b> Data Description </b>\n",
        "\n",
        "### The dataset is based on the 2016 NYC Yellow Cab trip record data made available in Big Query on Google Cloud Platform. The data was originally published by the NYC Taxi and Limousine Commission (TLC). The data was sampled and cleaned for the purposes of this project. Based on individual trip attributes, you should predict the duration of each trip in the test set.\n",
        "\n",
        "### <b>NYC Taxi Data.csv</b> - the training set (contains 1458644 trip records)\n",
        "\n",
        "\n",
        "### Data fields\n",
        "* #### id - a unique identifier for each trip\n",
        "* #### vendor_id - a code indicating the provider associated with the trip record\n",
        "* #### pickup_datetime - date and time when the meter was engaged\n",
        "* #### dropoff_datetime - date and time when the meter was disengaged\n",
        "* #### passenger_count - the number of passengers in the vehicle (driver entered value)\n",
        "* #### pickup_longitude - the longitude where the meter was engaged\n",
        "* #### pickup_latitude - the latitude where the meter was engaged\n",
        "* #### dropoff_longitude - the longitude where the meter was disengaged\n",
        "* #### dropoff_latitude - the latitude where the meter was disengaged\n",
        "* #### store_and_fwd_flag - This flag indicates whether the trip record was held in vehicle memory before sending to the vendor because the vehicle did not have a connection to the server - Y=store and forward; N=not a store and forward trip\n",
        "* #### trip_duration - duration of the trip in seconds"
      ]
    },
    {
      "cell_type": "code",
      "execution_count": null,
      "metadata": {
        "colab": {
          "base_uri": "https://localhost:8080/"
        },
        "id": "dByMsuzT8Tnw",
        "outputId": "ddd246e0-3911-4a8c-8a5a-bf6b84bf23aa"
      },
      "outputs": [
        {
          "output_type": "stream",
          "name": "stdout",
          "text": [
            "Drive already mounted at /content/drive; to attempt to forcibly remount, call drive.mount(\"/content/drive\", force_remount=True).\n"
          ]
        }
      ],
      "source": [
        "from google.colab import drive\n",
        "drive.mount('/content/drive')"
      ]
    },
    {
      "cell_type": "markdown",
      "metadata": {
        "id": "Vnjps_9jRV0H"
      },
      "source": [
        "# Importing  libraries"
      ]
    },
    {
      "cell_type": "markdown",
      "metadata": {
        "id": "piZFlkZ9QFqK"
      },
      "source": [
        " Importing important libraries for analysis and visualisation "
      ]
    },
    {
      "cell_type": "code",
      "source": [
        "pip install matplotlib==3.1.3\n"
      ],
      "metadata": {
        "colab": {
          "base_uri": "https://localhost:8080/"
        },
        "id": "nEFyMNhSjb8f",
        "outputId": "43772691-16d0-4a2d-9582-359aa7327563"
      },
      "execution_count": null,
      "outputs": [
        {
          "output_type": "stream",
          "name": "stdout",
          "text": [
            "Requirement already satisfied: matplotlib==3.1.3 in /usr/local/lib/python3.7/dist-packages (3.1.3)\n",
            "Requirement already satisfied: python-dateutil>=2.1 in /usr/local/lib/python3.7/dist-packages (from matplotlib==3.1.3) (2.8.2)\n",
            "Requirement already satisfied: cycler>=0.10 in /usr/local/lib/python3.7/dist-packages (from matplotlib==3.1.3) (0.11.0)\n",
            "Requirement already satisfied: pyparsing!=2.0.4,!=2.1.2,!=2.1.6,>=2.0.1 in /usr/local/lib/python3.7/dist-packages (from matplotlib==3.1.3) (3.0.8)\n",
            "Requirement already satisfied: kiwisolver>=1.0.1 in /usr/local/lib/python3.7/dist-packages (from matplotlib==3.1.3) (1.4.2)\n",
            "Requirement already satisfied: numpy>=1.11 in /usr/local/lib/python3.7/dist-packages (from matplotlib==3.1.3) (1.21.6)\n",
            "Requirement already satisfied: typing-extensions in /usr/local/lib/python3.7/dist-packages (from kiwisolver>=1.0.1->matplotlib==3.1.3) (4.2.0)\n",
            "Requirement already satisfied: six>=1.5 in /usr/local/lib/python3.7/dist-packages (from python-dateutil>=2.1->matplotlib==3.1.3) (1.15.0)\n"
          ]
        }
      ]
    },
    {
      "cell_type": "code",
      "execution_count": null,
      "metadata": {
        "id": "mMfFopUyckjP"
      },
      "outputs": [],
      "source": [
        "import numpy as np\n",
        "import pandas as pd\n",
        "import seaborn as sns\n",
        "import matplotlib.pyplot as plt\n",
        "import datetime as dt\n",
        "import statsmodels.formula.api as sm\n",
        "%matplotlib inline\n",
        "import calendar\n"
      ]
    },
    {
      "cell_type": "markdown",
      "metadata": {
        "id": "mAb-NJZ0QRxT"
      },
      "source": [
        "Libraries for machine learning "
      ]
    },
    {
      "cell_type": "code",
      "execution_count": null,
      "metadata": {
        "id": "1KW2msIfQWKt"
      },
      "outputs": [],
      "source": [
        "from sklearn.linear_model import LinearRegression\n",
        "from sklearn.ensemble import RandomForestRegressor\n",
        "from xgboost import XGBRegressor\n",
        "from sklearn import metrics\n",
        "from sklearn.model_selection import train_test_split, GridSearchCV\n",
        "from sklearn.model_selection import learning_curve\n",
        "from sklearn.model_selection import ShuffleSplit\n"
      ]
    },
    {
      "cell_type": "code",
      "execution_count": null,
      "metadata": {
        "id": "bezE808mcD0p"
      },
      "outputs": [],
      "source": [
        "df=pd.read_csv('/content/drive/MyDrive/personal /df.csv',parse_dates=['pickup_datetime','dropoff_datetime'])\n",
        "\n",
        "#To suppres scientific notation.\n",
        "pd.options.display.float_format = '{:.2f}'.format \n",
        "\n",
        "pd.set_option('display.max_columns', None)"
      ]
    },
    {
      "cell_type": "markdown",
      "metadata": {
        "id": "ZDbmK8o9R5rF"
      },
      "source": [
        "# **Data Exploration**\n",
        "We will explore the data and modify dataset as per the our requirment for the further analysis of the problem."
      ]
    },
    {
      "cell_type": "code",
      "execution_count": null,
      "metadata": {
        "colab": {
          "base_uri": "https://localhost:8080/",
          "height": 374
        },
        "id": "7QZAYAkvR8a2",
        "outputId": "0eb6c15c-1f81-4474-c728-5d74454ff74b"
      },
      "outputs": [
        {
          "output_type": "execute_result",
          "data": {
            "text/plain": [
              "   Unnamed: 0         id  vendor_id     pickup_datetime    dropoff_datetime  \\\n",
              "0           0  id2875421          2 2016-03-14 17:24:55 2016-03-14 17:32:30   \n",
              "1           1  id2377394          1 2016-06-12 00:43:35 2016-06-12 00:54:38   \n",
              "2           2  id3858529          2 2016-01-19 11:35:24 2016-01-19 12:10:48   \n",
              "3           3  id3504673          2 2016-04-06 19:32:31 2016-04-06 19:39:40   \n",
              "4           4  id2181028          2 2016-03-26 13:30:55 2016-03-26 13:38:10   \n",
              "\n",
              "   passenger_count  pickup_longitude  pickup_latitude  dropoff_longitude  \\\n",
              "0                1            -73.98            40.77             -73.96   \n",
              "1                1            -73.98            40.74             -74.00   \n",
              "2                1            -73.98            40.76             -74.01   \n",
              "3                1            -74.01            40.72             -74.01   \n",
              "4                1            -73.97            40.79             -73.97   \n",
              "\n",
              "   dropoff_latitude store_and_fwd_flag  trip_duration  Distance  \n",
              "0             40.77                  N            455      1.22  \n",
              "1             40.73                  N            663      1.33  \n",
              "2             40.71                  N           2124      2.10  \n",
              "3             40.71                  N            429      0.30  \n",
              "4             40.78                  N            435      0.20  "
            ],
            "text/html": [
              "\n",
              "  <div id=\"df-2d5abd49-94d8-4e84-853a-575664f779f1\">\n",
              "    <div class=\"colab-df-container\">\n",
              "      <div>\n",
              "<style scoped>\n",
              "    .dataframe tbody tr th:only-of-type {\n",
              "        vertical-align: middle;\n",
              "    }\n",
              "\n",
              "    .dataframe tbody tr th {\n",
              "        vertical-align: top;\n",
              "    }\n",
              "\n",
              "    .dataframe thead th {\n",
              "        text-align: right;\n",
              "    }\n",
              "</style>\n",
              "<table border=\"1\" class=\"dataframe\">\n",
              "  <thead>\n",
              "    <tr style=\"text-align: right;\">\n",
              "      <th></th>\n",
              "      <th>Unnamed: 0</th>\n",
              "      <th>id</th>\n",
              "      <th>vendor_id</th>\n",
              "      <th>pickup_datetime</th>\n",
              "      <th>dropoff_datetime</th>\n",
              "      <th>passenger_count</th>\n",
              "      <th>pickup_longitude</th>\n",
              "      <th>pickup_latitude</th>\n",
              "      <th>dropoff_longitude</th>\n",
              "      <th>dropoff_latitude</th>\n",
              "      <th>store_and_fwd_flag</th>\n",
              "      <th>trip_duration</th>\n",
              "      <th>Distance</th>\n",
              "    </tr>\n",
              "  </thead>\n",
              "  <tbody>\n",
              "    <tr>\n",
              "      <th>0</th>\n",
              "      <td>0</td>\n",
              "      <td>id2875421</td>\n",
              "      <td>2</td>\n",
              "      <td>2016-03-14 17:24:55</td>\n",
              "      <td>2016-03-14 17:32:30</td>\n",
              "      <td>1</td>\n",
              "      <td>-73.98</td>\n",
              "      <td>40.77</td>\n",
              "      <td>-73.96</td>\n",
              "      <td>40.77</td>\n",
              "      <td>N</td>\n",
              "      <td>455</td>\n",
              "      <td>1.22</td>\n",
              "    </tr>\n",
              "    <tr>\n",
              "      <th>1</th>\n",
              "      <td>1</td>\n",
              "      <td>id2377394</td>\n",
              "      <td>1</td>\n",
              "      <td>2016-06-12 00:43:35</td>\n",
              "      <td>2016-06-12 00:54:38</td>\n",
              "      <td>1</td>\n",
              "      <td>-73.98</td>\n",
              "      <td>40.74</td>\n",
              "      <td>-74.00</td>\n",
              "      <td>40.73</td>\n",
              "      <td>N</td>\n",
              "      <td>663</td>\n",
              "      <td>1.33</td>\n",
              "    </tr>\n",
              "    <tr>\n",
              "      <th>2</th>\n",
              "      <td>2</td>\n",
              "      <td>id3858529</td>\n",
              "      <td>2</td>\n",
              "      <td>2016-01-19 11:35:24</td>\n",
              "      <td>2016-01-19 12:10:48</td>\n",
              "      <td>1</td>\n",
              "      <td>-73.98</td>\n",
              "      <td>40.76</td>\n",
              "      <td>-74.01</td>\n",
              "      <td>40.71</td>\n",
              "      <td>N</td>\n",
              "      <td>2124</td>\n",
              "      <td>2.10</td>\n",
              "    </tr>\n",
              "    <tr>\n",
              "      <th>3</th>\n",
              "      <td>3</td>\n",
              "      <td>id3504673</td>\n",
              "      <td>2</td>\n",
              "      <td>2016-04-06 19:32:31</td>\n",
              "      <td>2016-04-06 19:39:40</td>\n",
              "      <td>1</td>\n",
              "      <td>-74.01</td>\n",
              "      <td>40.72</td>\n",
              "      <td>-74.01</td>\n",
              "      <td>40.71</td>\n",
              "      <td>N</td>\n",
              "      <td>429</td>\n",
              "      <td>0.30</td>\n",
              "    </tr>\n",
              "    <tr>\n",
              "      <th>4</th>\n",
              "      <td>4</td>\n",
              "      <td>id2181028</td>\n",
              "      <td>2</td>\n",
              "      <td>2016-03-26 13:30:55</td>\n",
              "      <td>2016-03-26 13:38:10</td>\n",
              "      <td>1</td>\n",
              "      <td>-73.97</td>\n",
              "      <td>40.79</td>\n",
              "      <td>-73.97</td>\n",
              "      <td>40.78</td>\n",
              "      <td>N</td>\n",
              "      <td>435</td>\n",
              "      <td>0.20</td>\n",
              "    </tr>\n",
              "  </tbody>\n",
              "</table>\n",
              "</div>\n",
              "      <button class=\"colab-df-convert\" onclick=\"convertToInteractive('df-2d5abd49-94d8-4e84-853a-575664f779f1')\"\n",
              "              title=\"Convert this dataframe to an interactive table.\"\n",
              "              style=\"display:none;\">\n",
              "        \n",
              "  <svg xmlns=\"http://www.w3.org/2000/svg\" height=\"24px\"viewBox=\"0 0 24 24\"\n",
              "       width=\"24px\">\n",
              "    <path d=\"M0 0h24v24H0V0z\" fill=\"none\"/>\n",
              "    <path d=\"M18.56 5.44l.94 2.06.94-2.06 2.06-.94-2.06-.94-.94-2.06-.94 2.06-2.06.94zm-11 1L8.5 8.5l.94-2.06 2.06-.94-2.06-.94L8.5 2.5l-.94 2.06-2.06.94zm10 10l.94 2.06.94-2.06 2.06-.94-2.06-.94-.94-2.06-.94 2.06-2.06.94z\"/><path d=\"M17.41 7.96l-1.37-1.37c-.4-.4-.92-.59-1.43-.59-.52 0-1.04.2-1.43.59L10.3 9.45l-7.72 7.72c-.78.78-.78 2.05 0 2.83L4 21.41c.39.39.9.59 1.41.59.51 0 1.02-.2 1.41-.59l7.78-7.78 2.81-2.81c.8-.78.8-2.07 0-2.86zM5.41 20L4 18.59l7.72-7.72 1.47 1.35L5.41 20z\"/>\n",
              "  </svg>\n",
              "      </button>\n",
              "      \n",
              "  <style>\n",
              "    .colab-df-container {\n",
              "      display:flex;\n",
              "      flex-wrap:wrap;\n",
              "      gap: 12px;\n",
              "    }\n",
              "\n",
              "    .colab-df-convert {\n",
              "      background-color: #E8F0FE;\n",
              "      border: none;\n",
              "      border-radius: 50%;\n",
              "      cursor: pointer;\n",
              "      display: none;\n",
              "      fill: #1967D2;\n",
              "      height: 32px;\n",
              "      padding: 0 0 0 0;\n",
              "      width: 32px;\n",
              "    }\n",
              "\n",
              "    .colab-df-convert:hover {\n",
              "      background-color: #E2EBFA;\n",
              "      box-shadow: 0px 1px 2px rgba(60, 64, 67, 0.3), 0px 1px 3px 1px rgba(60, 64, 67, 0.15);\n",
              "      fill: #174EA6;\n",
              "    }\n",
              "\n",
              "    [theme=dark] .colab-df-convert {\n",
              "      background-color: #3B4455;\n",
              "      fill: #D2E3FC;\n",
              "    }\n",
              "\n",
              "    [theme=dark] .colab-df-convert:hover {\n",
              "      background-color: #434B5C;\n",
              "      box-shadow: 0px 1px 3px 1px rgba(0, 0, 0, 0.15);\n",
              "      filter: drop-shadow(0px 1px 2px rgba(0, 0, 0, 0.3));\n",
              "      fill: #FFFFFF;\n",
              "    }\n",
              "  </style>\n",
              "\n",
              "      <script>\n",
              "        const buttonEl =\n",
              "          document.querySelector('#df-2d5abd49-94d8-4e84-853a-575664f779f1 button.colab-df-convert');\n",
              "        buttonEl.style.display =\n",
              "          google.colab.kernel.accessAllowed ? 'block' : 'none';\n",
              "\n",
              "        async function convertToInteractive(key) {\n",
              "          const element = document.querySelector('#df-2d5abd49-94d8-4e84-853a-575664f779f1');\n",
              "          const dataTable =\n",
              "            await google.colab.kernel.invokeFunction('convertToInteractive',\n",
              "                                                     [key], {});\n",
              "          if (!dataTable) return;\n",
              "\n",
              "          const docLinkHtml = 'Like what you see? Visit the ' +\n",
              "            '<a target=\"_blank\" href=https://colab.research.google.com/notebooks/data_table.ipynb>data table notebook</a>'\n",
              "            + ' to learn more about interactive tables.';\n",
              "          element.innerHTML = '';\n",
              "          dataTable['output_type'] = 'display_data';\n",
              "          await google.colab.output.renderOutput(dataTable, element);\n",
              "          const docLink = document.createElement('div');\n",
              "          docLink.innerHTML = docLinkHtml;\n",
              "          element.appendChild(docLink);\n",
              "        }\n",
              "      </script>\n",
              "    </div>\n",
              "  </div>\n",
              "  "
            ]
          },
          "metadata": {},
          "execution_count": 252
        }
      ],
      "source": [
        "df.head()"
      ]
    },
    {
      "cell_type": "code",
      "source": [
        "df.info()"
      ],
      "metadata": {
        "colab": {
          "base_uri": "https://localhost:8080/"
        },
        "id": "KK6M49d8QP__",
        "outputId": "6c9bb3fd-3d21-4664-d286-e55206daebd1"
      },
      "execution_count": null,
      "outputs": [
        {
          "output_type": "stream",
          "name": "stdout",
          "text": [
            "<class 'pandas.core.frame.DataFrame'>\n",
            "RangeIndex: 1354583 entries, 0 to 1354582\n",
            "Data columns (total 13 columns):\n",
            " #   Column              Non-Null Count    Dtype         \n",
            "---  ------              --------------    -----         \n",
            " 0   Unnamed: 0          1354583 non-null  int64         \n",
            " 1   id                  1354583 non-null  object        \n",
            " 2   vendor_id           1354583 non-null  int64         \n",
            " 3   pickup_datetime     1354583 non-null  datetime64[ns]\n",
            " 4   dropoff_datetime    1354583 non-null  datetime64[ns]\n",
            " 5   passenger_count     1354583 non-null  int64         \n",
            " 6   pickup_longitude    1354583 non-null  float64       \n",
            " 7   pickup_latitude     1354583 non-null  float64       \n",
            " 8   dropoff_longitude   1354583 non-null  float64       \n",
            " 9   dropoff_latitude    1354583 non-null  float64       \n",
            " 10  store_and_fwd_flag  1354583 non-null  object        \n",
            " 11  trip_duration       1354583 non-null  int64         \n",
            " 12  Distance            1354583 non-null  float64       \n",
            "dtypes: datetime64[ns](2), float64(5), int64(4), object(2)\n",
            "memory usage: 134.4+ MB\n"
          ]
        }
      ]
    },
    {
      "cell_type": "code",
      "source": [
        "df.drop('Unnamed: 0',inplace=True,axis=1)"
      ],
      "metadata": {
        "id": "N8bCk9vlQBKs"
      },
      "execution_count": null,
      "outputs": []
    },
    {
      "cell_type": "code",
      "source": [
        "#df.reset_index(inplace=True)"
      ],
      "metadata": {
        "id": "uVvgi-bAQdC0"
      },
      "execution_count": null,
      "outputs": []
    },
    {
      "cell_type": "code",
      "execution_count": null,
      "metadata": {
        "colab": {
          "base_uri": "https://localhost:8080/"
        },
        "id": "1t1jgBP7SH43",
        "outputId": "94d4fa5e-7758-4f3e-ac6b-65d17bcab041"
      },
      "outputs": [
        {
          "output_type": "stream",
          "name": "stdout",
          "text": [
            "The shape of our dataset is : (1354583, 12)\n"
          ]
        }
      ],
      "source": [
        "print(\"The shape of our dataset is :\",(df.shape))"
      ]
    },
    {
      "cell_type": "code",
      "execution_count": null,
      "metadata": {
        "colab": {
          "base_uri": "https://localhost:8080/"
        },
        "id": "R0tlktUOSOIf",
        "outputId": "eccc4021-88fa-4f10-c75c-ab6f6146ae6f"
      },
      "outputs": [
        {
          "output_type": "stream",
          "name": "stdout",
          "text": [
            "There are 1354583 unique id's in our dataset, which is equal to the number of records\n"
          ]
        }
      ],
      "source": [
        "#Check count of unique id's in the dataset\n",
        "\n",
        "\n",
        "print(\"There are %d unique id's in our dataset, which is equal to the number of records\"%(df.id.nunique()))"
      ]
    },
    {
      "cell_type": "code",
      "execution_count": null,
      "metadata": {
        "colab": {
          "base_uri": "https://localhost:8080/"
        },
        "id": "Gh4rYh_GSp4v",
        "outputId": "d9fecfca-c7d3-4872-fd57-f81af02c78d3"
      },
      "outputs": [
        {
          "output_type": "execute_result",
          "data": {
            "text/plain": [
              "id                    0\n",
              "vendor_id             0\n",
              "pickup_datetime       0\n",
              "dropoff_datetime      0\n",
              "passenger_count       0\n",
              "pickup_longitude      0\n",
              "pickup_latitude       0\n",
              "dropoff_longitude     0\n",
              "dropoff_latitude      0\n",
              "store_and_fwd_flag    0\n",
              "trip_duration         0\n",
              "Distance              0\n",
              "dtype: int64"
            ]
          },
          "metadata": {},
          "execution_count": 258
        }
      ],
      "source": [
        "#Check for NaN values\n",
        "\n",
        "\n",
        "df.isnull().sum()"
      ]
    },
    {
      "cell_type": "markdown",
      "metadata": {
        "id": "aPOKztOySuxn"
      },
      "source": [
        "Calculate and assign new columns to the dataframe such as weekday,\n",
        "month and pickup_hour which will help us to gain more insights from the data."
      ]
    },
    {
      "cell_type": "markdown",
      "source": [
        "# Feature Engineering"
      ],
      "metadata": {
        "id": "ILrdBu9k7vnq"
      }
    },
    {
      "cell_type": "markdown",
      "source": [
        "### **Distance:**"
      ],
      "metadata": {
        "id": "zPcvBhnOZujI"
      }
    },
    {
      "cell_type": "markdown",
      "source": [
        "[**Haversine Distance :**](https://pypi.org/project/haversine/)\n",
        "The majority of geospatial analysts agree that this is the appropriate distance to use for Earth distances and is argued to be more accurate over longer distances compared to Euclidean distance.\n",
        "\n",
        "Performance is faster in computing compared to other great circle distance formulas such as [Vincenty Formula](https://pypi.org/project/vincenty/)\n",
        "\n",
        "\n",
        "Manhattan Distance\n",
        "\n",
        "**The Manhattan Distance :** *is a measure of the distance between two points that take into account the perpendicular layout of the map. It is called Manhattan distance because Manhattan is known for its grid or block layout where streets intersect at right angles*. [For more info](https://towardsdatascience.com/spatial-distance-and-machine-learning-2cab72fc6284)"
      ],
      "metadata": {
        "id": "3Z0hXESMIjZp"
      }
    },
    {
      "cell_type": "code",
      "source": [
        "#we will use Haversine distance to calculate the distance between two points. \n",
        "\n",
        "\n",
        "def haversine_distance(lat1, lon1, lat2, lon2):\n",
        "  p = 0.017453292519943295 # Pi/180\n",
        "  a = 0.5 - np.cos((lat2 - lat1) * p)/2 + np.cos(lat1 * p) * np.cos(lat2 * p) * (1 - np.cos((lon2 - lon1) * p))/2\n",
        "  return 0.6213712 * 12742 * np.arcsin(np.sqrt(a))"
      ],
      "metadata": {
        "id": "T6Uf4LL893mp"
      },
      "execution_count": null,
      "outputs": []
    },
    {
      "cell_type": "code",
      "source": [
        "df[\"haversine_distance\"] = haversine_distance(df[\"pickup_latitude\"], df[\"pickup_longitude\"], \n",
        "                                      df[\"dropoff_latitude\"], df[\"dropoff_longitude\"])"
      ],
      "metadata": {
        "id": "0TSzsR_h976I"
      },
      "execution_count": null,
      "outputs": []
    },
    {
      "cell_type": "code",
      "source": [
        "def manhattan_distance(lat1, lng1, lat2, lng2):\n",
        "    # km \n",
        "    a = haversine_distance(lat1, lng1, lat1, lng2)\n",
        "    b = haversine_distance(lat1, lng1, lat2, lng1)\n",
        "    return a + b\n"
      ],
      "metadata": {
        "id": "mRy4BUFHWDUD"
      },
      "execution_count": null,
      "outputs": []
    },
    {
      "cell_type": "code",
      "source": [
        "df[\"manhattan_distance\"] = manhattan_distance(df[\"pickup_latitude\"], df[\"pickup_longitude\"], \n",
        "                                      df[\"dropoff_latitude\"], df[\"dropoff_longitude\"])"
      ],
      "metadata": {
        "id": "IZxZwIqMVDQj"
      },
      "execution_count": null,
      "outputs": []
    },
    {
      "cell_type": "code",
      "source": [
        "df.head(1)"
      ],
      "metadata": {
        "colab": {
          "base_uri": "https://localhost:8080/",
          "height": 162
        },
        "id": "iUil9okPfOuQ",
        "outputId": "9d65ce0f-4707-404d-945f-155efb99e3df"
      },
      "execution_count": null,
      "outputs": [
        {
          "output_type": "execute_result",
          "data": {
            "text/plain": [
              "          id  vendor_id     pickup_datetime    dropoff_datetime  \\\n",
              "0  id2875421          2 2016-03-14 17:24:55 2016-03-14 17:32:30   \n",
              "\n",
              "   passenger_count  pickup_longitude  pickup_latitude  dropoff_longitude  \\\n",
              "0                1            -73.98            40.77             -73.96   \n",
              "\n",
              "   dropoff_latitude store_and_fwd_flag  trip_duration  Distance  \\\n",
              "0             40.77                  N            455      1.22   \n",
              "\n",
              "   haversine_distance  manhattan_distance  \n",
              "0                0.93                1.08  "
            ],
            "text/html": [
              "\n",
              "  <div id=\"df-1e511032-331c-434b-a08c-c45e0286da3b\">\n",
              "    <div class=\"colab-df-container\">\n",
              "      <div>\n",
              "<style scoped>\n",
              "    .dataframe tbody tr th:only-of-type {\n",
              "        vertical-align: middle;\n",
              "    }\n",
              "\n",
              "    .dataframe tbody tr th {\n",
              "        vertical-align: top;\n",
              "    }\n",
              "\n",
              "    .dataframe thead th {\n",
              "        text-align: right;\n",
              "    }\n",
              "</style>\n",
              "<table border=\"1\" class=\"dataframe\">\n",
              "  <thead>\n",
              "    <tr style=\"text-align: right;\">\n",
              "      <th></th>\n",
              "      <th>id</th>\n",
              "      <th>vendor_id</th>\n",
              "      <th>pickup_datetime</th>\n",
              "      <th>dropoff_datetime</th>\n",
              "      <th>passenger_count</th>\n",
              "      <th>pickup_longitude</th>\n",
              "      <th>pickup_latitude</th>\n",
              "      <th>dropoff_longitude</th>\n",
              "      <th>dropoff_latitude</th>\n",
              "      <th>store_and_fwd_flag</th>\n",
              "      <th>trip_duration</th>\n",
              "      <th>Distance</th>\n",
              "      <th>haversine_distance</th>\n",
              "      <th>manhattan_distance</th>\n",
              "    </tr>\n",
              "  </thead>\n",
              "  <tbody>\n",
              "    <tr>\n",
              "      <th>0</th>\n",
              "      <td>id2875421</td>\n",
              "      <td>2</td>\n",
              "      <td>2016-03-14 17:24:55</td>\n",
              "      <td>2016-03-14 17:32:30</td>\n",
              "      <td>1</td>\n",
              "      <td>-73.98</td>\n",
              "      <td>40.77</td>\n",
              "      <td>-73.96</td>\n",
              "      <td>40.77</td>\n",
              "      <td>N</td>\n",
              "      <td>455</td>\n",
              "      <td>1.22</td>\n",
              "      <td>0.93</td>\n",
              "      <td>1.08</td>\n",
              "    </tr>\n",
              "  </tbody>\n",
              "</table>\n",
              "</div>\n",
              "      <button class=\"colab-df-convert\" onclick=\"convertToInteractive('df-1e511032-331c-434b-a08c-c45e0286da3b')\"\n",
              "              title=\"Convert this dataframe to an interactive table.\"\n",
              "              style=\"display:none;\">\n",
              "        \n",
              "  <svg xmlns=\"http://www.w3.org/2000/svg\" height=\"24px\"viewBox=\"0 0 24 24\"\n",
              "       width=\"24px\">\n",
              "    <path d=\"M0 0h24v24H0V0z\" fill=\"none\"/>\n",
              "    <path d=\"M18.56 5.44l.94 2.06.94-2.06 2.06-.94-2.06-.94-.94-2.06-.94 2.06-2.06.94zm-11 1L8.5 8.5l.94-2.06 2.06-.94-2.06-.94L8.5 2.5l-.94 2.06-2.06.94zm10 10l.94 2.06.94-2.06 2.06-.94-2.06-.94-.94-2.06-.94 2.06-2.06.94z\"/><path d=\"M17.41 7.96l-1.37-1.37c-.4-.4-.92-.59-1.43-.59-.52 0-1.04.2-1.43.59L10.3 9.45l-7.72 7.72c-.78.78-.78 2.05 0 2.83L4 21.41c.39.39.9.59 1.41.59.51 0 1.02-.2 1.41-.59l7.78-7.78 2.81-2.81c.8-.78.8-2.07 0-2.86zM5.41 20L4 18.59l7.72-7.72 1.47 1.35L5.41 20z\"/>\n",
              "  </svg>\n",
              "      </button>\n",
              "      \n",
              "  <style>\n",
              "    .colab-df-container {\n",
              "      display:flex;\n",
              "      flex-wrap:wrap;\n",
              "      gap: 12px;\n",
              "    }\n",
              "\n",
              "    .colab-df-convert {\n",
              "      background-color: #E8F0FE;\n",
              "      border: none;\n",
              "      border-radius: 50%;\n",
              "      cursor: pointer;\n",
              "      display: none;\n",
              "      fill: #1967D2;\n",
              "      height: 32px;\n",
              "      padding: 0 0 0 0;\n",
              "      width: 32px;\n",
              "    }\n",
              "\n",
              "    .colab-df-convert:hover {\n",
              "      background-color: #E2EBFA;\n",
              "      box-shadow: 0px 1px 2px rgba(60, 64, 67, 0.3), 0px 1px 3px 1px rgba(60, 64, 67, 0.15);\n",
              "      fill: #174EA6;\n",
              "    }\n",
              "\n",
              "    [theme=dark] .colab-df-convert {\n",
              "      background-color: #3B4455;\n",
              "      fill: #D2E3FC;\n",
              "    }\n",
              "\n",
              "    [theme=dark] .colab-df-convert:hover {\n",
              "      background-color: #434B5C;\n",
              "      box-shadow: 0px 1px 3px 1px rgba(0, 0, 0, 0.15);\n",
              "      filter: drop-shadow(0px 1px 2px rgba(0, 0, 0, 0.3));\n",
              "      fill: #FFFFFF;\n",
              "    }\n",
              "  </style>\n",
              "\n",
              "      <script>\n",
              "        const buttonEl =\n",
              "          document.querySelector('#df-1e511032-331c-434b-a08c-c45e0286da3b button.colab-df-convert');\n",
              "        buttonEl.style.display =\n",
              "          google.colab.kernel.accessAllowed ? 'block' : 'none';\n",
              "\n",
              "        async function convertToInteractive(key) {\n",
              "          const element = document.querySelector('#df-1e511032-331c-434b-a08c-c45e0286da3b');\n",
              "          const dataTable =\n",
              "            await google.colab.kernel.invokeFunction('convertToInteractive',\n",
              "                                                     [key], {});\n",
              "          if (!dataTable) return;\n",
              "\n",
              "          const docLinkHtml = 'Like what you see? Visit the ' +\n",
              "            '<a target=\"_blank\" href=https://colab.research.google.com/notebooks/data_table.ipynb>data table notebook</a>'\n",
              "            + ' to learn more about interactive tables.';\n",
              "          element.innerHTML = '';\n",
              "          dataTable['output_type'] = 'display_data';\n",
              "          await google.colab.output.renderOutput(dataTable, element);\n",
              "          const docLink = document.createElement('div');\n",
              "          docLink.innerHTML = docLinkHtml;\n",
              "          element.appendChild(docLink);\n",
              "        }\n",
              "      </script>\n",
              "    </div>\n",
              "  </div>\n",
              "  "
            ]
          },
          "metadata": {},
          "execution_count": 263
        }
      ]
    },
    {
      "cell_type": "markdown",
      "source": [
        "We observe the Minimum **driving distance** for our first observation according to google is [1.5 miles](https://www.google.com/maps/dir/'40.77,-73.98'/'40.77,-73.96'/@40.7689841,-73.9738618,15z/data=!4m13!4m12!1m5!1m1!1s0x0:0xb0aac0a0d6383216!2m2!1d-73.98!2d40.77!1m5!1m1!1s0x0:0x778ea6368195c8d2!2m2!1d-73.96!2d40.77), when compared to distance that we [calculated earlier](https://github.com/NaithaniAR/NYC-Taxi-Trip-Time-Prediction---Capstone-Project.ipynb/blob/main/NYC_Taxi_Trip_Driving_Distance.ipynb) with haversine distance and manhatten distance, we observe that osmnx is the most accurate.  "
      ],
      "metadata": {
        "id": "ZgR367_KbDWm"
      }
    },
    {
      "cell_type": "markdown",
      "source": [
        "### **Pickup Datetime &  Dropoff Datetime**\n",
        "\n",
        "\n",
        "*   Date and Time when the meter was disengaged and engaged\n",
        "*   Extracing Date Time Month Day and Year for further analysis \n"
      ],
      "metadata": {
        "id": "GpmzM33PfWU6"
      }
    },
    {
      "cell_type": "code",
      "source": [
        "#Date\n",
        "\n",
        "df['pickup_date']=df['pickup_datetime'].dt.date\n",
        "df['dropoff_date']=df['dropoff_datetime'].dt.date\n",
        "\n",
        "\n",
        "\n",
        "#Day\n",
        "\n",
        "\n",
        "df['pickup_weekday']=df['pickup_datetime'].dt.day_name()\n",
        "df['dropoff_weekday']=df['dropoff_datetime'].dt.day_name()\n",
        "\n",
        "#Month\n",
        "\n",
        "df['pickup_month']=df['pickup_datetime'].dt.month\n",
        "df['dropoff_month']=df['dropoff_datetime'].dt.month\n",
        "\n",
        "\n",
        "\n",
        "# Time\n",
        "\n",
        "df['Pick_Up_time'] = df['pickup_datetime'].dt.time\n",
        "df['Drop_off_time'] = df['dropoff_datetime'].dt.time\n",
        "\n",
        "#Year\n",
        "\n",
        "df['pickup_Year']=df['pickup_datetime'].dt.year\n",
        "df['dropoff_Year']=df['dropoff_datetime'].dt.year\n",
        "\n",
        "#Hour\n",
        "df['pickup_datetime_hour'] = df.pickup_datetime.dt.hour\n",
        "df['dropoff_datetime_hour'] =df.dropoff_datetime.dt.hour\n"
      ],
      "metadata": {
        "id": "SD49vX38fcyJ"
      },
      "execution_count": null,
      "outputs": []
    },
    {
      "cell_type": "markdown",
      "metadata": {
        "id": "dM-FPvgiO2wx"
      },
      "source": [
        "# Univariate Analysis"
      ]
    },
    {
      "cell_type": "markdown",
      "source": [
        "### **ID**\n",
        "*A unique identifier for each trip*"
      ],
      "metadata": {
        "id": "Amfbwyq1rR1H"
      }
    },
    {
      "cell_type": "code",
      "source": [
        "df['id'].describe()"
      ],
      "metadata": {
        "id": "EWe2qQwO1767",
        "colab": {
          "base_uri": "https://localhost:8080/"
        },
        "outputId": "d01f48ea-28c8-4f03-cafd-3d603a878f6f"
      },
      "execution_count": null,
      "outputs": [
        {
          "output_type": "execute_result",
          "data": {
            "text/plain": [
              "count       1354583\n",
              "unique      1354583\n",
              "top       id2875421\n",
              "freq              1\n",
              "Name: id, dtype: object"
            ]
          },
          "metadata": {},
          "execution_count": 265
        }
      ]
    },
    {
      "cell_type": "markdown",
      "source": [
        "There are no duplicate values in 'id', with  1458644 unique values "
      ],
      "metadata": {
        "id": "afCl4qhw2wCK"
      }
    },
    {
      "cell_type": "markdown",
      "source": [
        "### Distance "
      ],
      "metadata": {
        "id": "Nr0UFhKbsf3P"
      }
    },
    {
      "cell_type": "code",
      "source": [
        "df[['Distance','haversine_distance','manhattan_distance' ]].describe()"
      ],
      "metadata": {
        "colab": {
          "base_uri": "https://localhost:8080/",
          "height": 300
        },
        "id": "7m8J2G_csoCv",
        "outputId": "5f6def50-2689-445f-e984-12073feed9af"
      },
      "execution_count": null,
      "outputs": [
        {
          "output_type": "execute_result",
          "data": {
            "text/plain": [
              "        Distance  haversine_distance  manhattan_distance\n",
              "count 1354583.00          1354583.00          1354583.00\n",
              "mean        1.37                1.68                2.16\n",
              "std         1.56                1.42                1.82\n",
              "min         0.00                0.00                0.00\n",
              "25%         0.51                0.74                0.94\n",
              "50%         0.90                1.22                1.57\n",
              "75%         1.58                2.11                2.72\n",
              "max        14.22               11.47               15.52"
            ],
            "text/html": [
              "\n",
              "  <div id=\"df-c7eb4773-afec-4695-ad2d-4951f23da2ed\">\n",
              "    <div class=\"colab-df-container\">\n",
              "      <div>\n",
              "<style scoped>\n",
              "    .dataframe tbody tr th:only-of-type {\n",
              "        vertical-align: middle;\n",
              "    }\n",
              "\n",
              "    .dataframe tbody tr th {\n",
              "        vertical-align: top;\n",
              "    }\n",
              "\n",
              "    .dataframe thead th {\n",
              "        text-align: right;\n",
              "    }\n",
              "</style>\n",
              "<table border=\"1\" class=\"dataframe\">\n",
              "  <thead>\n",
              "    <tr style=\"text-align: right;\">\n",
              "      <th></th>\n",
              "      <th>Distance</th>\n",
              "      <th>haversine_distance</th>\n",
              "      <th>manhattan_distance</th>\n",
              "    </tr>\n",
              "  </thead>\n",
              "  <tbody>\n",
              "    <tr>\n",
              "      <th>count</th>\n",
              "      <td>1354583.00</td>\n",
              "      <td>1354583.00</td>\n",
              "      <td>1354583.00</td>\n",
              "    </tr>\n",
              "    <tr>\n",
              "      <th>mean</th>\n",
              "      <td>1.37</td>\n",
              "      <td>1.68</td>\n",
              "      <td>2.16</td>\n",
              "    </tr>\n",
              "    <tr>\n",
              "      <th>std</th>\n",
              "      <td>1.56</td>\n",
              "      <td>1.42</td>\n",
              "      <td>1.82</td>\n",
              "    </tr>\n",
              "    <tr>\n",
              "      <th>min</th>\n",
              "      <td>0.00</td>\n",
              "      <td>0.00</td>\n",
              "      <td>0.00</td>\n",
              "    </tr>\n",
              "    <tr>\n",
              "      <th>25%</th>\n",
              "      <td>0.51</td>\n",
              "      <td>0.74</td>\n",
              "      <td>0.94</td>\n",
              "    </tr>\n",
              "    <tr>\n",
              "      <th>50%</th>\n",
              "      <td>0.90</td>\n",
              "      <td>1.22</td>\n",
              "      <td>1.57</td>\n",
              "    </tr>\n",
              "    <tr>\n",
              "      <th>75%</th>\n",
              "      <td>1.58</td>\n",
              "      <td>2.11</td>\n",
              "      <td>2.72</td>\n",
              "    </tr>\n",
              "    <tr>\n",
              "      <th>max</th>\n",
              "      <td>14.22</td>\n",
              "      <td>11.47</td>\n",
              "      <td>15.52</td>\n",
              "    </tr>\n",
              "  </tbody>\n",
              "</table>\n",
              "</div>\n",
              "      <button class=\"colab-df-convert\" onclick=\"convertToInteractive('df-c7eb4773-afec-4695-ad2d-4951f23da2ed')\"\n",
              "              title=\"Convert this dataframe to an interactive table.\"\n",
              "              style=\"display:none;\">\n",
              "        \n",
              "  <svg xmlns=\"http://www.w3.org/2000/svg\" height=\"24px\"viewBox=\"0 0 24 24\"\n",
              "       width=\"24px\">\n",
              "    <path d=\"M0 0h24v24H0V0z\" fill=\"none\"/>\n",
              "    <path d=\"M18.56 5.44l.94 2.06.94-2.06 2.06-.94-2.06-.94-.94-2.06-.94 2.06-2.06.94zm-11 1L8.5 8.5l.94-2.06 2.06-.94-2.06-.94L8.5 2.5l-.94 2.06-2.06.94zm10 10l.94 2.06.94-2.06 2.06-.94-2.06-.94-.94-2.06-.94 2.06-2.06.94z\"/><path d=\"M17.41 7.96l-1.37-1.37c-.4-.4-.92-.59-1.43-.59-.52 0-1.04.2-1.43.59L10.3 9.45l-7.72 7.72c-.78.78-.78 2.05 0 2.83L4 21.41c.39.39.9.59 1.41.59.51 0 1.02-.2 1.41-.59l7.78-7.78 2.81-2.81c.8-.78.8-2.07 0-2.86zM5.41 20L4 18.59l7.72-7.72 1.47 1.35L5.41 20z\"/>\n",
              "  </svg>\n",
              "      </button>\n",
              "      \n",
              "  <style>\n",
              "    .colab-df-container {\n",
              "      display:flex;\n",
              "      flex-wrap:wrap;\n",
              "      gap: 12px;\n",
              "    }\n",
              "\n",
              "    .colab-df-convert {\n",
              "      background-color: #E8F0FE;\n",
              "      border: none;\n",
              "      border-radius: 50%;\n",
              "      cursor: pointer;\n",
              "      display: none;\n",
              "      fill: #1967D2;\n",
              "      height: 32px;\n",
              "      padding: 0 0 0 0;\n",
              "      width: 32px;\n",
              "    }\n",
              "\n",
              "    .colab-df-convert:hover {\n",
              "      background-color: #E2EBFA;\n",
              "      box-shadow: 0px 1px 2px rgba(60, 64, 67, 0.3), 0px 1px 3px 1px rgba(60, 64, 67, 0.15);\n",
              "      fill: #174EA6;\n",
              "    }\n",
              "\n",
              "    [theme=dark] .colab-df-convert {\n",
              "      background-color: #3B4455;\n",
              "      fill: #D2E3FC;\n",
              "    }\n",
              "\n",
              "    [theme=dark] .colab-df-convert:hover {\n",
              "      background-color: #434B5C;\n",
              "      box-shadow: 0px 1px 3px 1px rgba(0, 0, 0, 0.15);\n",
              "      filter: drop-shadow(0px 1px 2px rgba(0, 0, 0, 0.3));\n",
              "      fill: #FFFFFF;\n",
              "    }\n",
              "  </style>\n",
              "\n",
              "      <script>\n",
              "        const buttonEl =\n",
              "          document.querySelector('#df-c7eb4773-afec-4695-ad2d-4951f23da2ed button.colab-df-convert');\n",
              "        buttonEl.style.display =\n",
              "          google.colab.kernel.accessAllowed ? 'block' : 'none';\n",
              "\n",
              "        async function convertToInteractive(key) {\n",
              "          const element = document.querySelector('#df-c7eb4773-afec-4695-ad2d-4951f23da2ed');\n",
              "          const dataTable =\n",
              "            await google.colab.kernel.invokeFunction('convertToInteractive',\n",
              "                                                     [key], {});\n",
              "          if (!dataTable) return;\n",
              "\n",
              "          const docLinkHtml = 'Like what you see? Visit the ' +\n",
              "            '<a target=\"_blank\" href=https://colab.research.google.com/notebooks/data_table.ipynb>data table notebook</a>'\n",
              "            + ' to learn more about interactive tables.';\n",
              "          element.innerHTML = '';\n",
              "          dataTable['output_type'] = 'display_data';\n",
              "          await google.colab.output.renderOutput(dataTable, element);\n",
              "          const docLink = document.createElement('div');\n",
              "          docLink.innerHTML = docLinkHtml;\n",
              "          element.appendChild(docLink);\n",
              "        }\n",
              "      </script>\n",
              "    </div>\n",
              "  </div>\n",
              "  "
            ]
          },
          "metadata": {},
          "execution_count": 266
        }
      ]
    },
    {
      "cell_type": "code",
      "source": [
        "df.shape"
      ],
      "metadata": {
        "colab": {
          "base_uri": "https://localhost:8080/"
        },
        "id": "GCMLtQ7C1pdB",
        "outputId": "0d547a39-c334-40bb-bde0-3f4b7cab8d32"
      },
      "execution_count": null,
      "outputs": [
        {
          "output_type": "execute_result",
          "data": {
            "text/plain": [
              "(1354583, 26)"
            ]
          },
          "metadata": {},
          "execution_count": 267
        }
      ]
    },
    {
      "cell_type": "code",
      "source": [
        "  # remove potential distance outlier \n",
        "\n",
        "# Removing the bottom 1 perentile values as distance travelled cannot be equal to zero. \n",
        "\n",
        "df = df[ df['Distance'] > df['Distance'].quantile(0.01)]\n",
        "\n",
        "\n",
        "#df = df[(df['manhattan_distance'] < df['manhattan_distance'].quantile(0.95)) & (df['manhattan_distance'] > df['manhattan_distance'].quantile(0.05))]\n",
        " "
      ],
      "metadata": {
        "id": "gPIdxxwksh_q"
      },
      "execution_count": null,
      "outputs": []
    },
    {
      "cell_type": "code",
      "source": [
        "df.shape"
      ],
      "metadata": {
        "colab": {
          "base_uri": "https://localhost:8080/"
        },
        "id": "bfcZ_RCi1tIf",
        "outputId": "efcc4e5b-43a7-42b5-d1fb-3bb6a79085c5"
      },
      "execution_count": null,
      "outputs": [
        {
          "output_type": "execute_result",
          "data": {
            "text/plain": [
              "(1341037, 26)"
            ]
          },
          "metadata": {},
          "execution_count": 269
        }
      ]
    },
    {
      "cell_type": "code",
      "source": [
        "1354583-1341037"
      ],
      "metadata": {
        "colab": {
          "base_uri": "https://localhost:8080/"
        },
        "id": "po0YyO57-M6Q",
        "outputId": "95550719-610e-4857-d790-1df8309b2acf"
      },
      "execution_count": null,
      "outputs": [
        {
          "output_type": "execute_result",
          "data": {
            "text/plain": [
              "13546"
            ]
          },
          "metadata": {},
          "execution_count": 270
        }
      ]
    },
    {
      "cell_type": "markdown",
      "source": [
        "### Vendor id"
      ],
      "metadata": {
        "id": "yeiioa3XsvVa"
      }
    },
    {
      "cell_type": "code",
      "source": [
        "\n",
        "\n",
        "df['vendor_id'].value_counts().plot.pie(figsize = (7,9), autopct='%1.1f%%')\n",
        "plt.legend()\n"
      ],
      "metadata": {
        "id": "Zs6aofkrq6j-",
        "colab": {
          "base_uri": "https://localhost:8080/",
          "height": 440
        },
        "outputId": "7e410562-861c-4bcd-b075-fafe1779254b"
      },
      "execution_count": null,
      "outputs": [
        {
          "output_type": "execute_result",
          "data": {
            "text/plain": [
              "<matplotlib.legend.Legend at 0x7f0bb7ec7bd0>"
            ]
          },
          "metadata": {},
          "execution_count": 271
        },
        {
          "output_type": "display_data",
          "data": {
            "text/plain": [
              "<Figure size 504x648 with 1 Axes>"
            ],
            "image/png": "[encoded data removed]"
          },
          "metadata": {}
        }
      ]
    },
    {
      "cell_type": "markdown",
      "source": [
        "We can observe that there are approximately similar percentage on both side "
      ],
      "metadata": {
        "id": "a7Yk86QW3cvK"
      }
    },
    {
      "cell_type": "markdown",
      "source": [
        "### **Passenger Count**\n",
        "The number of passengers in the vehicle (driver entered value)\n"
      ],
      "metadata": {
        "id": "sy2xlgzgy2M8"
      }
    },
    {
      "cell_type": "code",
      "source": [
        "#Plotting Sub Plot \n",
        "\n",
        "fig, axes = plt.subplots(1, 2,figsize=(20,5))\n",
        "\n",
        "#Plotting bar graph \n",
        "\n",
        "sns.countplot(df['passenger_count'],ax=axes[0])\n",
        "plt.title('Distribution of passenger count ')\n",
        "plt.xlabel('Passenger')\n",
        "plt.ylabel('Count')\n",
        "#Plotting Box Plot\n",
        "\n",
        "sns.boxplot(df['passenger_count'],color='blue',ax=axes[1])"
      ],
      "metadata": {
        "id": "GPCsOqo5vQr3",
        "colab": {
          "base_uri": "https://localhost:8080/",
          "height": 462
        },
        "outputId": "3b75297f-9d4b-4fc2-adf8-7d31c40fe9bf"
      },
      "execution_count": null,
      "outputs": [
        {
          "output_type": "stream",
          "name": "stderr",
          "text": [
            "/usr/local/lib/python3.7/dist-packages/seaborn/_decorators.py:43: FutureWarning: Pass the following variable as a keyword arg: x. From version 0.12, the only valid positional argument will be `data`, and passing other arguments without an explicit keyword will result in an error or misinterpretation.\n",
            "  FutureWarning\n",
            "/usr/local/lib/python3.7/dist-packages/seaborn/_decorators.py:43: FutureWarning: Pass the following variable as a keyword arg: x. From version 0.12, the only valid positional argument will be `data`, and passing other arguments without an explicit keyword will result in an error or misinterpretation.\n",
            "  FutureWarning\n"
          ]
        },
        {
          "output_type": "execute_result",
          "data": {
            "text/plain": [
              "<matplotlib.axes._subplots.AxesSubplot at 0x7f0b7d5aaf90>"
            ]
          },
          "metadata": {},
          "execution_count": 272
        },
        {
          "output_type": "display_data",
          "data": {
            "text/plain": [
              "<Figure size 1440x360 with 2 Axes>"
            ],
            "image/png": "[encoded data removed]"
          },
          "metadata": {
            "needs_background": "light"
          }
        }
      ]
    },
    {
      "cell_type": "markdown",
      "source": [
        "According to [ Driver Rule 54-15(g)](https://www1.nyc.gov/assets/tlc/downloads/pdf/rule_book_current_chapter_54.pdf) of 'NYC Taxi and Limousine Commission' ,  maximum permissible number of passengers in a taxi is 6. Hence we will drop values which are greater than 6. \n",
        "\n",
        "There are some values that are represented by 0, we will drop these values to. because this is clearly a mistake and no further data is available for drawing any conclusions. "
      ],
      "metadata": {
        "id": "phFewJ0VzMTU"
      }
    },
    {
      "cell_type": "code",
      "source": [
        "df.shape"
      ],
      "metadata": {
        "colab": {
          "base_uri": "https://localhost:8080/"
        },
        "id": "-6Y2dK9uAB5G",
        "outputId": "d5553c94-65de-4206-cfab-ff3c9a4dba15"
      },
      "execution_count": null,
      "outputs": [
        {
          "output_type": "execute_result",
          "data": {
            "text/plain": [
              "(1341037, 26)"
            ]
          },
          "metadata": {},
          "execution_count": 273
        }
      ]
    },
    {
      "cell_type": "code",
      "source": [
        "#Dropping Passenger Count \n",
        "\n",
        "df= df[(df['passenger_count']>0) & (df['passenger_count']<=6)]\n",
        "\n",
        "#Plotting pie chart \n",
        "\n",
        "df['passenger_count'].value_counts().plot.pie(figsize = (7,9), autopct='%1.1f%%')\n",
        "plt.legend()"
      ],
      "metadata": {
        "id": "wktd6JzH0yGX",
        "colab": {
          "base_uri": "https://localhost:8080/",
          "height": 440
        },
        "outputId": "f00c5877-98bd-47af-8975-74aca0e9f58a"
      },
      "execution_count": null,
      "outputs": [
        {
          "output_type": "execute_result",
          "data": {
            "text/plain": [
              "<matplotlib.legend.Legend at 0x7f0b7dc9a050>"
            ]
          },
          "metadata": {},
          "execution_count": 274
        },
        {
          "output_type": "display_data",
          "data": {
            "text/plain": [
              "<Figure size 504x648 with 1 Axes>"
            ],
            "image/png": "[encoded data removed]"
          },
          "metadata": {}
        }
      ]
    },
    {
      "cell_type": "code",
      "source": [
        "df.shape"
      ],
      "metadata": {
        "colab": {
          "base_uri": "https://localhost:8080/"
        },
        "id": "3cHEm4vYAGT9",
        "outputId": "7dadf9e1-347f-4bcd-97a5-6cb3c2dcbc0f"
      },
      "execution_count": null,
      "outputs": [
        {
          "output_type": "execute_result",
          "data": {
            "text/plain": [
              "(1341026, 26)"
            ]
          },
          "metadata": {},
          "execution_count": 275
        }
      ]
    },
    {
      "cell_type": "markdown",
      "metadata": {
        "id": "ezrNhN273bpu"
      },
      "source": [
        "### Trip Duration\n"
      ]
    },
    {
      "cell_type": "code",
      "source": [
        "# trip duration overall distribution \n",
        "\n",
        "# taking the 97% Quantile values to remove outliers \n",
        "\n",
        "tripduration = df[df.trip_duration < df.trip_duration.quantile(.97)]\n",
        "\n",
        "#Plotting Trip duration VS Trip_duration.counts\n",
        "\n",
        "tripduration.groupby('trip_duration').count()['id'].plot()\n",
        "\n",
        "plt.xlabel('trip duration (sec)')\n",
        "plt.ylabel('trips counts')\n",
        "plt.title('Duration Distribution')"
      ],
      "metadata": {
        "id": "sTpEla58NUk3",
        "colab": {
          "base_uri": "https://localhost:8080/",
          "height": 313
        },
        "outputId": "cdade3e7-8dda-462c-fe1e-6a7d166bd066"
      },
      "execution_count": null,
      "outputs": [
        {
          "output_type": "execute_result",
          "data": {
            "text/plain": [
              "Text(0.5, 1.0, 'Duration Distribution')"
            ]
          },
          "metadata": {},
          "execution_count": 276
        },
        {
          "output_type": "display_data",
          "data": {
            "text/plain": [
              "<Figure size 432x288 with 1 Axes>"
            ],
            "image/png": "[encoded data removed]"
          },
          "metadata": {
            "needs_background": "light"
          }
        }
      ]
    },
    {
      "cell_type": "code",
      "source": [
        "df['trip_duration'].sort_values().tail()"
      ],
      "metadata": {
        "id": "jXF9iYLvcjer",
        "colab": {
          "base_uri": "https://localhost:8080/"
        },
        "outputId": "6512c193-c000-400f-a10c-f76fb9e62e38"
      },
      "execution_count": null,
      "outputs": [
        {
          "output_type": "execute_result",
          "data": {
            "text/plain": [
              "700182      86379\n",
              "55711       86387\n",
              "68649       86390\n",
              "632292    2049578\n",
              "858347    2227612\n",
              "Name: trip_duration, dtype: int64"
            ]
          },
          "metadata": {},
          "execution_count": 277
        }
      ]
    },
    {
      "cell_type": "markdown",
      "source": [
        "\n",
        "*   Most trips finished within 6-17 minute (400-1000 sec)\n",
        "*  Some trips take too long/too fast are obvious wrong, maybe because of tech/maunal operation issues, should filter them in following process\n",
        "\n",
        "\n",
        "\n"
      ],
      "metadata": {
        "id": "Fup5PeNlWzMJ"
      }
    },
    {
      "cell_type": "code",
      "source": [
        "# trip duration should less then 12 hours and greater than 30 seconds normally\n",
        "      \n",
        "df = df[(df['trip_duration']  < 12*3600) & (df['trip_duration'] > 30)]\n",
        "\n",
        "# remove potential  trip duration outlier\n",
        "\n",
        "df = df[(df['trip_duration'] < df['trip_duration'].quantile(0.99)) & (df['trip_duration'] > df['trip_duration'].quantile(0.01))]"
      ],
      "metadata": {
        "id": "kKbUFMgjuhN9"
      },
      "execution_count": null,
      "outputs": []
    },
    {
      "cell_type": "code",
      "source": [
        "df.shape"
      ],
      "metadata": {
        "colab": {
          "base_uri": "https://localhost:8080/"
        },
        "id": "m3PGdcytB-8g",
        "outputId": "c86aa8ad-4fb9-4c21-ec4e-155ce6fdb528"
      },
      "execution_count": null,
      "outputs": [
        {
          "output_type": "execute_result",
          "data": {
            "text/plain": [
              "(1311773, 26)"
            ]
          },
          "metadata": {},
          "execution_count": 279
        }
      ]
    },
    {
      "cell_type": "markdown",
      "source": [
        "### Speed"
      ],
      "metadata": {
        "id": "DxUuJXDaNOZ6"
      }
    },
    {
      "cell_type": "code",
      "execution_count": null,
      "metadata": {
        "id": "zaWfEUkR3bp0",
        "colab": {
          "base_uri": "https://localhost:8080/"
        },
        "outputId": "425769e7-7f08-48d4-8c2f-c4b4ef4ceb45"
      },
      "outputs": [
        {
          "output_type": "stream",
          "name": "stderr",
          "text": [
            "/usr/local/lib/python3.7/dist-packages/ipykernel_launcher.py:3: SettingWithCopyWarning: \n",
            "A value is trying to be set on a copy of a slice from a DataFrame.\n",
            "Try using .loc[row_indexer,col_indexer] = value instead\n",
            "\n",
            "See the caveats in the documentation: https://pandas.pydata.org/pandas-docs/stable/user_guide/indexing.html#returning-a-view-versus-a-copy\n",
            "  This is separate from the ipykernel package so we can avoid doing imports until\n"
          ]
        }
      ],
      "source": [
        "#Calculate Speed \n",
        "# Distance obtained is in Miles/hr\n",
        "df['Avg_speed'] = 3600 * df['Distance'] / df['trip_duration']"
      ]
    },
    {
      "cell_type": "markdown",
      "source": [
        "The speed limit set in [USA](https://en.wikipedia.org/wiki/Speed_limits_in_the_United_States) for fastest moterable road is set at 85 miles per hour, and avg walking speed is considered to be 3mph. so limiting our data to this and adding a 50 % margin for overspeeding and traffic jams."
      ],
      "metadata": {
        "id": "G5C3sJs3xdnC"
      }
    },
    {
      "cell_type": "code",
      "source": [
        "# Setting speed in a logical range \n",
        "\n",
        "df = df[(df['Avg_speed']  < 130) & (df['Avg_speed'] > 1.5)]\n",
        "\n",
        "# Removing outliers\n",
        "df = df[(df['Avg_speed'] < df['Avg_speed'].quantile(0.99)) & (df['Avg_speed'] > df['Avg_speed'].quantile(0.01))]"
      ],
      "metadata": {
        "id": "dLSLKYQZveOT"
      },
      "execution_count": null,
      "outputs": []
    },
    {
      "cell_type": "code",
      "source": [
        "df.shape"
      ],
      "metadata": {
        "colab": {
          "base_uri": "https://localhost:8080/"
        },
        "id": "e4nu77rIC16f",
        "outputId": "43cbcc9e-6697-4b0a-ed67-1b625c8a69f9"
      },
      "execution_count": null,
      "outputs": [
        {
          "output_type": "execute_result",
          "data": {
            "text/plain": [
              "(1242337, 27)"
            ]
          },
          "metadata": {},
          "execution_count": 282
        }
      ]
    },
    {
      "cell_type": "markdown",
      "source": [
        "### **store_and_fwd_flag**\n",
        " This flag indicates whether the trip record was held in vehicle memory before sending to the vendor because the vehicle did not have a connection to the server - Y=store and forward; N=not a store and forward trip"
      ],
      "metadata": {
        "id": "c3-AD9_t4E90"
      }
    },
    {
      "cell_type": "code",
      "source": [
        "\n",
        "\n",
        "#Plotting bar graph \n",
        "\n",
        "sns.countplot(df['store_and_fwd_flag'])\n",
        "plt.title('Distribution of store and flag values ')\n",
        "plt.xlabel('store and flag values')\n",
        "plt.ylabel('Count')\n"
      ],
      "metadata": {
        "id": "9MWWHclC4JSP",
        "colab": {
          "base_uri": "https://localhost:8080/",
          "height": 370
        },
        "outputId": "c9808b08-d4c4-4ec1-b737-4c39a872ade8"
      },
      "execution_count": null,
      "outputs": [
        {
          "output_type": "stream",
          "name": "stderr",
          "text": [
            "/usr/local/lib/python3.7/dist-packages/seaborn/_decorators.py:43: FutureWarning: Pass the following variable as a keyword arg: x. From version 0.12, the only valid positional argument will be `data`, and passing other arguments without an explicit keyword will result in an error or misinterpretation.\n",
            "  FutureWarning\n"
          ]
        },
        {
          "output_type": "execute_result",
          "data": {
            "text/plain": [
              "Text(0, 0.5, 'Count')"
            ]
          },
          "metadata": {},
          "execution_count": 283
        },
        {
          "output_type": "display_data",
          "data": {
            "text/plain": [
              "<Figure size 432x288 with 1 Axes>"
            ],
            "image/png": "[encoded data removed]"
          },
          "metadata": {
            "needs_background": "light"
          }
        }
      ]
    },
    {
      "cell_type": "markdown",
      "source": [
        "# Bivariate analysis"
      ],
      "metadata": {
        "id": "MfuBIyBTfjnF"
      }
    },
    {
      "cell_type": "code",
      "source": [
        "df.info()"
      ],
      "metadata": {
        "id": "3I5DKgOhTmep",
        "colab": {
          "base_uri": "https://localhost:8080/"
        },
        "outputId": "4f0d10f3-e635-41e1-c9cf-4cde04a0c3c8"
      },
      "execution_count": null,
      "outputs": [
        {
          "output_type": "stream",
          "name": "stdout",
          "text": [
            "<class 'pandas.core.frame.DataFrame'>\n",
            "Int64Index: 1242337 entries, 0 to 1354582\n",
            "Data columns (total 27 columns):\n",
            " #   Column                 Non-Null Count    Dtype         \n",
            "---  ------                 --------------    -----         \n",
            " 0   id                     1242337 non-null  object        \n",
            " 1   vendor_id              1242337 non-null  int64         \n",
            " 2   pickup_datetime        1242337 non-null  datetime64[ns]\n",
            " 3   dropoff_datetime       1242337 non-null  datetime64[ns]\n",
            " 4   passenger_count        1242337 non-null  int64         \n",
            " 5   pickup_longitude       1242337 non-null  float64       \n",
            " 6   pickup_latitude        1242337 non-null  float64       \n",
            " 7   dropoff_longitude      1242337 non-null  float64       \n",
            " 8   dropoff_latitude       1242337 non-null  float64       \n",
            " 9   store_and_fwd_flag     1242337 non-null  object        \n",
            " 10  trip_duration          1242337 non-null  int64         \n",
            " 11  Distance               1242337 non-null  float64       \n",
            " 12  haversine_distance     1242337 non-null  float64       \n",
            " 13  manhattan_distance     1242337 non-null  float64       \n",
            " 14  pickup_date            1242337 non-null  object        \n",
            " 15  dropoff_date           1242337 non-null  object        \n",
            " 16  pickup_weekday         1242337 non-null  object        \n",
            " 17  dropoff_weekday        1242337 non-null  object        \n",
            " 18  pickup_month           1242337 non-null  int64         \n",
            " 19  dropoff_month          1242337 non-null  int64         \n",
            " 20  Pick_Up_time           1242337 non-null  object        \n",
            " 21  Drop_off_time          1242337 non-null  object        \n",
            " 22  pickup_Year            1242337 non-null  int64         \n",
            " 23  dropoff_Year           1242337 non-null  int64         \n",
            " 24  pickup_datetime_hour   1242337 non-null  int64         \n",
            " 25  dropoff_datetime_hour  1242337 non-null  int64         \n",
            " 26  Avg_speed              1242337 non-null  float64       \n",
            "dtypes: datetime64[ns](2), float64(8), int64(9), object(8)\n",
            "memory usage: 265.4+ MB\n"
          ]
        }
      ]
    },
    {
      "cell_type": "markdown",
      "source": [
        "We have added new colums, we can use these colums to analyse our data further and perform bivariate analysis "
      ],
      "metadata": {
        "id": "BgayhcIoTt5B"
      }
    },
    {
      "cell_type": "markdown",
      "source": [
        "### Pickup date & Dropoff date"
      ],
      "metadata": {
        "id": "GAo53B497zbK"
      }
    },
    {
      "cell_type": "code",
      "source": [
        "fig, ax = plt.subplots(ncols=2, sharey=True)\n",
        "fig.set_size_inches(12, 5)\n",
        "\n",
        "ax[0].plot(df.groupby('pickup_date').count()['id'], 'go-', alpha=0.5)\n",
        "ax[1].plot(df.groupby('dropoff_date').count()['id'], 'bo-', alpha=0.5)\n",
        "\n",
        "ax[0].set(xlabel='date', ylabel='Count',title=\"pickup counts\")\n",
        "ax[1].set(xlabel='date', ylabel='Count',title=\"dropoff counts\")\n",
        "\n",
        "plt.show()"
      ],
      "metadata": {
        "id": "yNiFUfVa7ylP",
        "colab": {
          "base_uri": "https://localhost:8080/",
          "height": 350
        },
        "outputId": "09b3cb6a-b8f9-475d-9a4d-b95ed1ff91aa"
      },
      "execution_count": null,
      "outputs": [
        {
          "output_type": "display_data",
          "data": {
            "text/plain": [
              "<Figure size 864x360 with 2 Axes>"
            ],
            "image/png": "[encoded data removed]"
          },
          "metadata": {
            "needs_background": "light"
          }
        }
      ]
    },
    {
      "cell_type": "code",
      "source": [
        "df.groupby('pickup_date').count()['id'].sort_values()"
      ],
      "metadata": {
        "id": "u-75MJ2j87q8",
        "colab": {
          "base_uri": "https://localhost:8080/"
        },
        "outputId": "60888f31-6bb1-4051-dbe5-f8e7a048222a"
      },
      "execution_count": null,
      "outputs": [
        {
          "output_type": "execute_result",
          "data": {
            "text/plain": [
              "pickup_date\n",
              "2016-01-23    1404\n",
              "2016-01-24    2906\n",
              "2016-05-30    4586\n",
              "2016-01-25    4772\n",
              "2016-01-03    5367\n",
              "              ... \n",
              "2016-03-12    8094\n",
              "2016-02-27    8100\n",
              "2016-04-16    8283\n",
              "2016-03-05    8401\n",
              "2016-04-09    8514\n",
              "Name: id, Length: 182, dtype: int64"
            ]
          },
          "metadata": {},
          "execution_count": 286
        }
      ]
    },
    {
      "cell_type": "code",
      "source": [
        "df.groupby('dropoff_date').count()['id'].sort_values()"
      ],
      "metadata": {
        "id": "ahFXKqt99zb8",
        "colab": {
          "base_uri": "https://localhost:8080/"
        },
        "outputId": "f9f5164c-b7fb-42df-eb38-25fe958d8960"
      },
      "execution_count": null,
      "outputs": [
        {
          "output_type": "execute_result",
          "data": {
            "text/plain": [
              "dropoff_date\n",
              "2016-07-01      84\n",
              "2016-01-23    1473\n",
              "2016-01-24    2878\n",
              "2016-05-30    4597\n",
              "2016-01-25    4770\n",
              "              ... \n",
              "2016-01-30    8086\n",
              "2016-03-12    8116\n",
              "2016-04-16    8305\n",
              "2016-03-05    8407\n",
              "2016-04-09    8506\n",
              "Name: id, Length: 183, dtype: int64"
            ]
          },
          "metadata": {},
          "execution_count": 287
        }
      ]
    },
    {
      "cell_type": "markdown",
      "source": [
        "We observe that daily Drop Off vary between 6000 and 1000, values on 26-07-01,2016-01-23,2016-01-24 are considerably low, hence we will drop these observations."
      ],
      "metadata": {
        "id": "YMfFl4Ia-Mkk"
      }
    },
    {
      "cell_type": "code",
      "source": [
        "#Dropping values from Date with abnormal values \n",
        "#Remove the 2016-01-23 data since its too less comapre others days, \n",
        "    # maybe quality is not good \n",
        "df= df[(df.pickup_date != '2016-01-23') ]\n",
        "\n",
        "df= df[(df.dropoff_date != '2016-01-24') ]\n",
        "df= df[(df.dropoff_date != '26-07-01') ]"
      ],
      "metadata": {
        "id": "k_ILAeYllKUQ"
      },
      "execution_count": null,
      "outputs": []
    },
    {
      "cell_type": "markdown",
      "source": [
        "### Passenger Count "
      ],
      "metadata": {
        "id": "8yU_ipCdfoHN"
      }
    },
    {
      "cell_type": "code",
      "source": [
        "df.groupby(['pickup_date']).sum()['passenger_count'].plot()\n"
      ],
      "metadata": {
        "id": "2Uf5PGE3fnFQ",
        "colab": {
          "base_uri": "https://localhost:8080/",
          "height": 298
        },
        "outputId": "35010d30-f6fc-4554-f81e-a5bc613bf22f"
      },
      "execution_count": null,
      "outputs": [
        {
          "output_type": "execute_result",
          "data": {
            "text/plain": [
              "<matplotlib.axes._subplots.AxesSubplot at 0x7f0b838774d0>"
            ]
          },
          "metadata": {},
          "execution_count": 289
        },
        {
          "output_type": "display_data",
          "data": {
            "text/plain": [
              "<Figure size 432x288 with 1 Axes>"
            ],
            "image/png": "[encoded data removed]"
          },
          "metadata": {
            "needs_background": "light"
          }
        }
      ]
    },
    {
      "cell_type": "code",
      "source": [
        "df.groupby(['dropoff_date']).sum()['passenger_count'].plot()"
      ],
      "metadata": {
        "id": "SJIZ2AeRgFdd",
        "colab": {
          "base_uri": "https://localhost:8080/",
          "height": 298
        },
        "outputId": "0de46ecb-cf80-4bee-e00c-c3f7d2dbad2b"
      },
      "execution_count": null,
      "outputs": [
        {
          "output_type": "execute_result",
          "data": {
            "text/plain": [
              "<matplotlib.axes._subplots.AxesSubplot at 0x7f0b7e053c10>"
            ]
          },
          "metadata": {},
          "execution_count": 290
        },
        {
          "output_type": "display_data",
          "data": {
            "text/plain": [
              "<Figure size 432x288 with 1 Axes>"
            ],
            "image/png": "[encoded data removed]"
          },
          "metadata": {
            "needs_background": "light"
          }
        }
      ]
    },
    {
      "cell_type": "code",
      "source": [
        "df.groupby(['dropoff_date']).sum()['passenger_count'].sort_values()"
      ],
      "metadata": {
        "id": "BE8d0620-6fp",
        "colab": {
          "base_uri": "https://localhost:8080/"
        },
        "outputId": "b6efaa38-7b21-4fc8-da7b-747341d12bb8"
      },
      "execution_count": null,
      "outputs": [
        {
          "output_type": "execute_result",
          "data": {
            "text/plain": [
              "dropoff_date\n",
              "2016-07-01      114\n",
              "2016-01-23     2480\n",
              "2016-01-24     5087\n",
              "2016-01-25     7747\n",
              "2016-05-30     7838\n",
              "              ...  \n",
              "2016-03-12    13992\n",
              "2016-01-30    14054\n",
              "2016-04-16    14254\n",
              "2016-03-05    14540\n",
              "2016-04-09    14760\n",
              "Name: passenger_count, Length: 183, dtype: int64"
            ]
          },
          "metadata": {},
          "execution_count": 291
        }
      ]
    },
    {
      "cell_type": "code",
      "source": [
        "df.groupby(['pickup_date']).sum()['passenger_count'].sort_values()"
      ],
      "metadata": {
        "id": "OpGVDXkZ_mt0",
        "colab": {
          "base_uri": "https://localhost:8080/"
        },
        "outputId": "75ec2096-9d8a-4328-e575-24580b9bc662"
      },
      "execution_count": null,
      "outputs": [
        {
          "output_type": "execute_result",
          "data": {
            "text/plain": [
              "pickup_date\n",
              "2016-01-23     2345\n",
              "2016-01-24     5127\n",
              "2016-01-25     7743\n",
              "2016-05-30     7844\n",
              "2016-01-26     9066\n",
              "              ...  \n",
              "2016-03-12    13978\n",
              "2016-01-30    14091\n",
              "2016-04-16    14231\n",
              "2016-03-05    14560\n",
              "2016-04-09    14789\n",
              "Name: passenger_count, Length: 182, dtype: int64"
            ]
          },
          "metadata": {},
          "execution_count": 292
        }
      ]
    },
    {
      "cell_type": "markdown",
      "source": [
        "\n",
        "\n",
        "*   Passenger count is considerably less on '2016-07-01' , '2016-01-23'  \n",
        "\n",
        "\n"
      ],
      "metadata": {
        "id": "13G82HRs_KxU"
      }
    },
    {
      "cell_type": "markdown",
      "source": [
        "### Trip Duration VS Hour"
      ],
      "metadata": {
        "id": "yFe8BEVVO0In"
      }
    },
    {
      "cell_type": "markdown",
      "source": [
        "A [pivot table](https://pbpython.com/pandas-pivot-table-explained.html) is a table of grouped values that aggregates the individual items of a more extensive table"
      ],
      "metadata": {
        "id": "Mz9kYg8qP4kI"
      }
    },
    {
      "cell_type": "code",
      "source": [
        "\n",
        "\n",
        "#tripduration = df_train_[df_train_.trip_duration < df_train_.trip_duration.quantile(.97)]  {As Calculated in section  }\n",
        "\n",
        "\n",
        "pd.pivot_table(tripduration, index='pickup_datetime_hour' ,aggfunc=np.mean)['trip_duration'].plot(label='mean')\n",
        "pd.pivot_table(tripduration, index='pickup_datetime_hour' ,aggfunc=np.median)['trip_duration'].plot(label='median')\n",
        "pd.pivot_table(tripduration, index='pickup_datetime_hour' ,aggfunc=np.std)['trip_duration'].plot(label='std')\n",
        "\n",
        "#plt.legend(loc=0)\n",
        "plt.xlabel('Pick up Hour (0-23)')\n",
        "plt.ylabel('orders counts ')\n",
        "plt.title('Orders VS Pickup hour')\n",
        "plt.show()"
      ],
      "metadata": {
        "id": "6plw8P6jPdmn",
        "colab": {
          "base_uri": "https://localhost:8080/",
          "height": 294
        },
        "outputId": "079215d4-3123-40cb-8114-4f18ed906afd"
      },
      "execution_count": null,
      "outputs": [
        {
          "output_type": "display_data",
          "data": {
            "text/plain": [
              "<Figure size 432x288 with 1 Axes>"
            ],
            "image/png": "[encoded data removed]"
          },
          "metadata": {
            "needs_background": "light"
          }
        }
      ]
    },
    {
      "cell_type": "markdown",
      "source": [
        "### store_and_fwd_flag VS  Trip duration "
      ],
      "metadata": {
        "id": "kLBNAzglSkAd"
      }
    },
    {
      "cell_type": "code",
      "source": [
        "# Plottong  store_and_fwd_flag VS trip_duration\n",
        "\n",
        "\n",
        "plt.figure(figsize=(14,6))\n",
        "sns.barplot(x='pickup_datetime_hour',y='trip_duration',data=df,hue='store_and_fwd_flag')\n",
        "plt.xlabel('Pickup Hour',fontsize=16)\n",
        "plt.ylabel('Trip Duration',fontsize=16)"
      ],
      "metadata": {
        "id": "WfvOiOMHSvBX",
        "colab": {
          "base_uri": "https://localhost:8080/",
          "height": 411
        },
        "outputId": "6979cc2b-9448-49e3-b09b-6ce26dd93f53"
      },
      "execution_count": null,
      "outputs": [
        {
          "output_type": "execute_result",
          "data": {
            "text/plain": [
              "Text(0, 0.5, 'Trip Duration')"
            ]
          },
          "metadata": {},
          "execution_count": 294
        },
        {
          "output_type": "display_data",
          "data": {
            "text/plain": [
              "<Figure size 1008x432 with 1 Axes>"
            ],
            "image/png": "[encoded data removed]"
          },
          "metadata": {
            "needs_background": "light"
          }
        }
      ]
    },
    {
      "cell_type": "markdown",
      "source": [
        "### Trip Duration Vs. Pickup/Dropoff Hour for diffrent months. "
      ],
      "metadata": {
        "id": "sjv-q6qnT8H0"
      }
    },
    {
      "cell_type": "code",
      "source": [
        "#Plot showing variation in trip duraion for diffrent pickups for diffrent months \n",
        "\n",
        "plt.figure(figsize=(14,6))\n",
        "sns.pointplot(x='pickup_datetime_hour',y='trip_duration',data=tripduration,hue='pickup_month')\n",
        "plt.xlabel('Pickup Hour',fontsize=16)\n",
        "plt.ylabel('Trip Duration)',fontsize=16)"
      ],
      "metadata": {
        "id": "TlUwmH7mUNAX",
        "colab": {
          "base_uri": "https://localhost:8080/",
          "height": 411
        },
        "outputId": "0f8619ed-9d69-4134-9366-d75b1ac88250"
      },
      "execution_count": null,
      "outputs": [
        {
          "output_type": "execute_result",
          "data": {
            "text/plain": [
              "Text(0, 0.5, 'Trip Duration)')"
            ]
          },
          "metadata": {},
          "execution_count": 295
        },
        {
          "output_type": "display_data",
          "data": {
            "text/plain": [
              "<Figure size 1008x432 with 1 Axes>"
            ],
            "image/png": "[encoded data removed]"
          },
          "metadata": {
            "needs_background": "light"
          }
        }
      ]
    },
    {
      "cell_type": "code",
      "source": [
        "#Plot showing variation in trip duraion for diffrent dropoffs for diffrent months \n",
        "\n",
        "plt.figure(figsize=(14,6))\n",
        "sns.pointplot(x='dropoff_datetime_hour',y='trip_duration',data=tripduration,hue='pickup_month')\n",
        "plt.xlabel('Pickup Hour',fontsize=16)\n",
        "plt.ylabel('Trip Duration)',fontsize=16)"
      ],
      "metadata": {
        "id": "uzvsCAoAgYhr",
        "colab": {
          "base_uri": "https://localhost:8080/",
          "height": 411
        },
        "outputId": "bfefe397-37d3-406d-b825-0311910ec9b9"
      },
      "execution_count": null,
      "outputs": [
        {
          "output_type": "execute_result",
          "data": {
            "text/plain": [
              "Text(0, 0.5, 'Trip Duration)')"
            ]
          },
          "metadata": {},
          "execution_count": 296
        },
        {
          "output_type": "display_data",
          "data": {
            "text/plain": [
              "<Figure size 1008x432 with 1 Axes>"
            ],
            "image/png": "[encoded data removed]"
          },
          "metadata": {
            "needs_background": "light"
          }
        }
      ]
    },
    {
      "cell_type": "markdown",
      "source": [
        "Months only affect duration a little bit ; while pickup hours seems may be infulence that more"
      ],
      "metadata": {
        "id": "aWk00GDlhlh1"
      }
    },
    {
      "cell_type": "markdown",
      "source": [
        "### Trip Duration vs Pickup/Dropoff hour for diffrent days of the week \n",
        "\n",
        "\n"
      ],
      "metadata": {
        "id": "M8WzRMNHUnIg"
      }
    },
    {
      "cell_type": "code",
      "source": [
        "\n",
        "# Plotting a line graph to represent the change in time duration of trip for diffrent days of the week \n",
        "\n",
        "plt.figure(figsize=(14,6))\n",
        "sns.pointplot(x='pickup_datetime_hour',y='trip_duration',data=tripduration,hue='pickup_weekday')\n",
        "plt.xlabel('Pickup Hour',fontsize=16)\n",
        "plt.ylabel('Trip Duration)',fontsize=16)\n"
      ],
      "metadata": {
        "id": "J-m0C6vcUYwl",
        "colab": {
          "base_uri": "https://localhost:8080/",
          "height": 411
        },
        "outputId": "7b6214e5-963a-4471-c1ef-9a85a3e56ce1"
      },
      "execution_count": null,
      "outputs": [
        {
          "output_type": "execute_result",
          "data": {
            "text/plain": [
              "Text(0, 0.5, 'Trip Duration)')"
            ]
          },
          "metadata": {},
          "execution_count": 297
        },
        {
          "output_type": "display_data",
          "data": {
            "text/plain": [
              "<Figure size 1008x432 with 1 Axes>"
            ],
            "image/png": "[encoded data removed]"
          },
          "metadata": {
            "needs_background": "light"
          }
        }
      ]
    },
    {
      "cell_type": "code",
      "source": [
        "# Plotting a line graph to represent the change in time duration of trip for diffrent days of the week \n",
        "\n",
        "plt.figure(figsize=(14,6))\n",
        "sns.pointplot(x='dropoff_datetime_hour',y='trip_duration',data=tripduration,hue='pickup_weekday')\n",
        "plt.xlabel('Pickup Hour',fontsize=16)\n",
        "plt.ylabel('Trip Duration)',fontsize=16)\n"
      ],
      "metadata": {
        "id": "6r7fqx3xeF0Y",
        "colab": {
          "base_uri": "https://localhost:8080/",
          "height": 412
        },
        "outputId": "81b98cb3-880e-44bb-812e-fd8605af29a8"
      },
      "execution_count": null,
      "outputs": [
        {
          "output_type": "execute_result",
          "data": {
            "text/plain": [
              "Text(0, 0.5, 'Trip Duration)')"
            ]
          },
          "metadata": {},
          "execution_count": 298
        },
        {
          "output_type": "display_data",
          "data": {
            "text/plain": [
              "<Figure size 1008x432 with 1 Axes>"
            ],
            "image/png": "[encoded data removed]"
          },
          "metadata": {
            "needs_background": "light"
          }
        }
      ]
    },
    {
      "cell_type": "markdown",
      "source": [
        "\n",
        "\n",
        "*   During the moring rush hours from Monday to Friday ie. 7 AM to 10 AM, maybe owing to traffic jam.\n",
        "\n",
        "\n",
        "* Duration are high duing wokday (Mon.-Fri.)\n",
        "\n",
        "\n",
        "\n",
        "\n"
      ],
      "metadata": {
        "id": "i5oKLH0hdJsj"
      }
    },
    {
      "cell_type": "code",
      "source": [
        "df.info()"
      ],
      "metadata": {
        "colab": {
          "base_uri": "https://localhost:8080/"
        },
        "id": "fWT5TpC6Il4p",
        "outputId": "31b70373-ee7d-4b2b-99ce-641d59b4d379"
      },
      "execution_count": null,
      "outputs": [
        {
          "output_type": "stream",
          "name": "stdout",
          "text": [
            "<class 'pandas.core.frame.DataFrame'>\n",
            "Int64Index: 1242337 entries, 0 to 1354582\n",
            "Data columns (total 27 columns):\n",
            " #   Column                 Non-Null Count    Dtype         \n",
            "---  ------                 --------------    -----         \n",
            " 0   id                     1242337 non-null  object        \n",
            " 1   vendor_id              1242337 non-null  int64         \n",
            " 2   pickup_datetime        1242337 non-null  datetime64[ns]\n",
            " 3   dropoff_datetime       1242337 non-null  datetime64[ns]\n",
            " 4   passenger_count        1242337 non-null  int64         \n",
            " 5   pickup_longitude       1242337 non-null  float64       \n",
            " 6   pickup_latitude        1242337 non-null  float64       \n",
            " 7   dropoff_longitude      1242337 non-null  float64       \n",
            " 8   dropoff_latitude       1242337 non-null  float64       \n",
            " 9   store_and_fwd_flag     1242337 non-null  object        \n",
            " 10  trip_duration          1242337 non-null  int64         \n",
            " 11  Distance               1242337 non-null  float64       \n",
            " 12  haversine_distance     1242337 non-null  float64       \n",
            " 13  manhattan_distance     1242337 non-null  float64       \n",
            " 14  pickup_date            1242337 non-null  object        \n",
            " 15  dropoff_date           1242337 non-null  object        \n",
            " 16  pickup_weekday         1242337 non-null  object        \n",
            " 17  dropoff_weekday        1242337 non-null  object        \n",
            " 18  pickup_month           1242337 non-null  int64         \n",
            " 19  dropoff_month          1242337 non-null  int64         \n",
            " 20  Pick_Up_time           1242337 non-null  object        \n",
            " 21  Drop_off_time          1242337 non-null  object        \n",
            " 22  pickup_Year            1242337 non-null  int64         \n",
            " 23  dropoff_Year           1242337 non-null  int64         \n",
            " 24  pickup_datetime_hour   1242337 non-null  int64         \n",
            " 25  dropoff_datetime_hour  1242337 non-null  int64         \n",
            " 26  Avg_speed              1242337 non-null  float64       \n",
            "dtypes: datetime64[ns](2), float64(8), int64(9), object(8)\n",
            "memory usage: 265.4+ MB\n"
          ]
        }
      ]
    },
    {
      "cell_type": "code",
      "source": [
        "df.select_dtypes(include=['object'])"
      ],
      "metadata": {
        "colab": {
          "base_uri": "https://localhost:8080/",
          "height": 423
        },
        "id": "c_8yI66ZIkHA",
        "outputId": "cf3708df-1f2e-4973-9fc6-c3eff6047e3e"
      },
      "execution_count": null,
      "outputs": [
        {
          "output_type": "execute_result",
          "data": {
            "text/plain": [
              "                id store_and_fwd_flag pickup_date dropoff_date pickup_weekday  \\\n",
              "0        id2875421                  N  2016-03-14   2016-03-14         Monday   \n",
              "1        id2377394                  N  2016-06-12   2016-06-12         Sunday   \n",
              "2        id3858529                  N  2016-01-19   2016-01-19        Tuesday   \n",
              "3        id3504673                  N  2016-04-06   2016-04-06      Wednesday   \n",
              "4        id2181028                  N  2016-03-26   2016-03-26       Saturday   \n",
              "...            ...                ...         ...          ...            ...   \n",
              "1354578  id2376096                  N  2016-04-08   2016-04-08         Friday   \n",
              "1354579  id1049543                  N  2016-01-10   2016-01-10         Sunday   \n",
              "1354580  id2304944                  N  2016-04-22   2016-04-22         Friday   \n",
              "1354581  id2714485                  N  2016-01-05   2016-01-05        Tuesday   \n",
              "1354582  id1209952                  N  2016-04-05   2016-04-05        Tuesday   \n",
              "\n",
              "        dropoff_weekday Pick_Up_time Drop_off_time  \n",
              "0                Monday     17:24:55      17:32:30  \n",
              "1                Sunday     00:43:35      00:54:38  \n",
              "2               Tuesday     11:35:24      12:10:48  \n",
              "3             Wednesday     19:32:31      19:39:40  \n",
              "4              Saturday     13:30:55      13:38:10  \n",
              "...                 ...          ...           ...  \n",
              "1354578          Friday     13:31:04      13:44:02  \n",
              "1354579          Sunday     07:35:15      07:46:10  \n",
              "1354580          Friday     06:57:41      07:10:25  \n",
              "1354581         Tuesday     15:56:26      16:02:39  \n",
              "1354582         Tuesday     14:44:25      14:47:43  \n",
              "\n",
              "[1242337 rows x 8 columns]"
            ],
            "text/html": [
              "\n",
              "  <div id=\"df-0799c3ca-fd6c-4ab3-86ab-513858ac2160\">\n",
              "    <div class=\"colab-df-container\">\n",
              "      <div>\n",
              "<style scoped>\n",
              "    .dataframe tbody tr th:only-of-type {\n",
              "        vertical-align: middle;\n",
              "    }\n",
              "\n",
              "    .dataframe tbody tr th {\n",
              "        vertical-align: top;\n",
              "    }\n",
              "\n",
              "    .dataframe thead th {\n",
              "        text-align: right;\n",
              "    }\n",
              "</style>\n",
              "<table border=\"1\" class=\"dataframe\">\n",
              "  <thead>\n",
              "    <tr style=\"text-align: right;\">\n",
              "      <th></th>\n",
              "      <th>id</th>\n",
              "      <th>store_and_fwd_flag</th>\n",
              "      <th>pickup_date</th>\n",
              "      <th>dropoff_date</th>\n",
              "      <th>pickup_weekday</th>\n",
              "      <th>dropoff_weekday</th>\n",
              "      <th>Pick_Up_time</th>\n",
              "      <th>Drop_off_time</th>\n",
              "    </tr>\n",
              "  </thead>\n",
              "  <tbody>\n",
              "    <tr>\n",
              "      <th>0</th>\n",
              "      <td>id2875421</td>\n",
              "      <td>N</td>\n",
              "      <td>2016-03-14</td>\n",
              "      <td>2016-03-14</td>\n",
              "      <td>Monday</td>\n",
              "      <td>Monday</td>\n",
              "      <td>17:24:55</td>\n",
              "      <td>17:32:30</td>\n",
              "    </tr>\n",
              "    <tr>\n",
              "      <th>1</th>\n",
              "      <td>id2377394</td>\n",
              "      <td>N</td>\n",
              "      <td>2016-06-12</td>\n",
              "      <td>2016-06-12</td>\n",
              "      <td>Sunday</td>\n",
              "      <td>Sunday</td>\n",
              "      <td>00:43:35</td>\n",
              "      <td>00:54:38</td>\n",
              "    </tr>\n",
              "    <tr>\n",
              "      <th>2</th>\n",
              "      <td>id3858529</td>\n",
              "      <td>N</td>\n",
              "      <td>2016-01-19</td>\n",
              "      <td>2016-01-19</td>\n",
              "      <td>Tuesday</td>\n",
              "      <td>Tuesday</td>\n",
              "      <td>11:35:24</td>\n",
              "      <td>12:10:48</td>\n",
              "    </tr>\n",
              "    <tr>\n",
              "      <th>3</th>\n",
              "      <td>id3504673</td>\n",
              "      <td>N</td>\n",
              "      <td>2016-04-06</td>\n",
              "      <td>2016-04-06</td>\n",
              "      <td>Wednesday</td>\n",
              "      <td>Wednesday</td>\n",
              "      <td>19:32:31</td>\n",
              "      <td>19:39:40</td>\n",
              "    </tr>\n",
              "    <tr>\n",
              "      <th>4</th>\n",
              "      <td>id2181028</td>\n",
              "      <td>N</td>\n",
              "      <td>2016-03-26</td>\n",
              "      <td>2016-03-26</td>\n",
              "      <td>Saturday</td>\n",
              "      <td>Saturday</td>\n",
              "      <td>13:30:55</td>\n",
              "      <td>13:38:10</td>\n",
              "    </tr>\n",
              "    <tr>\n",
              "      <th>...</th>\n",
              "      <td>...</td>\n",
              "      <td>...</td>\n",
              "      <td>...</td>\n",
              "      <td>...</td>\n",
              "      <td>...</td>\n",
              "      <td>...</td>\n",
              "      <td>...</td>\n",
              "      <td>...</td>\n",
              "    </tr>\n",
              "    <tr>\n",
              "      <th>1354578</th>\n",
              "      <td>id2376096</td>\n",
              "      <td>N</td>\n",
              "      <td>2016-04-08</td>\n",
              "      <td>2016-04-08</td>\n",
              "      <td>Friday</td>\n",
              "      <td>Friday</td>\n",
              "      <td>13:31:04</td>\n",
              "      <td>13:44:02</td>\n",
              "    </tr>\n",
              "    <tr>\n",
              "      <th>1354579</th>\n",
              "      <td>id1049543</td>\n",
              "      <td>N</td>\n",
              "      <td>2016-01-10</td>\n",
              "      <td>2016-01-10</td>\n",
              "      <td>Sunday</td>\n",
              "      <td>Sunday</td>\n",
              "      <td>07:35:15</td>\n",
              "      <td>07:46:10</td>\n",
              "    </tr>\n",
              "    <tr>\n",
              "      <th>1354580</th>\n",
              "      <td>id2304944</td>\n",
              "      <td>N</td>\n",
              "      <td>2016-04-22</td>\n",
              "      <td>2016-04-22</td>\n",
              "      <td>Friday</td>\n",
              "      <td>Friday</td>\n",
              "      <td>06:57:41</td>\n",
              "      <td>07:10:25</td>\n",
              "    </tr>\n",
              "    <tr>\n",
              "      <th>1354581</th>\n",
              "      <td>id2714485</td>\n",
              "      <td>N</td>\n",
              "      <td>2016-01-05</td>\n",
              "      <td>2016-01-05</td>\n",
              "      <td>Tuesday</td>\n",
              "      <td>Tuesday</td>\n",
              "      <td>15:56:26</td>\n",
              "      <td>16:02:39</td>\n",
              "    </tr>\n",
              "    <tr>\n",
              "      <th>1354582</th>\n",
              "      <td>id1209952</td>\n",
              "      <td>N</td>\n",
              "      <td>2016-04-05</td>\n",
              "      <td>2016-04-05</td>\n",
              "      <td>Tuesday</td>\n",
              "      <td>Tuesday</td>\n",
              "      <td>14:44:25</td>\n",
              "      <td>14:47:43</td>\n",
              "    </tr>\n",
              "  </tbody>\n",
              "</table>\n",
              "<p>1242337 rows × 8 columns</p>\n",
              "</div>\n",
              "      <button class=\"colab-df-convert\" onclick=\"convertToInteractive('df-0799c3ca-fd6c-4ab3-86ab-513858ac2160')\"\n",
              "              title=\"Convert this dataframe to an interactive table.\"\n",
              "              style=\"display:none;\">\n",
              "        \n",
              "  <svg xmlns=\"http://www.w3.org/2000/svg\" height=\"24px\"viewBox=\"0 0 24 24\"\n",
              "       width=\"24px\">\n",
              "    <path d=\"M0 0h24v24H0V0z\" fill=\"none\"/>\n",
              "    <path d=\"M18.56 5.44l.94 2.06.94-2.06 2.06-.94-2.06-.94-.94-2.06-.94 2.06-2.06.94zm-11 1L8.5 8.5l.94-2.06 2.06-.94-2.06-.94L8.5 2.5l-.94 2.06-2.06.94zm10 10l.94 2.06.94-2.06 2.06-.94-2.06-.94-.94-2.06-.94 2.06-2.06.94z\"/><path d=\"M17.41 7.96l-1.37-1.37c-.4-.4-.92-.59-1.43-.59-.52 0-1.04.2-1.43.59L10.3 9.45l-7.72 7.72c-.78.78-.78 2.05 0 2.83L4 21.41c.39.39.9.59 1.41.59.51 0 1.02-.2 1.41-.59l7.78-7.78 2.81-2.81c.8-.78.8-2.07 0-2.86zM5.41 20L4 18.59l7.72-7.72 1.47 1.35L5.41 20z\"/>\n",
              "  </svg>\n",
              "      </button>\n",
              "      \n",
              "  <style>\n",
              "    .colab-df-container {\n",
              "      display:flex;\n",
              "      flex-wrap:wrap;\n",
              "      gap: 12px;\n",
              "    }\n",
              "\n",
              "    .colab-df-convert {\n",
              "      background-color: #E8F0FE;\n",
              "      border: none;\n",
              "      border-radius: 50%;\n",
              "      cursor: pointer;\n",
              "      display: none;\n",
              "      fill: #1967D2;\n",
              "      height: 32px;\n",
              "      padding: 0 0 0 0;\n",
              "      width: 32px;\n",
              "    }\n",
              "\n",
              "    .colab-df-convert:hover {\n",
              "      background-color: #E2EBFA;\n",
              "      box-shadow: 0px 1px 2px rgba(60, 64, 67, 0.3), 0px 1px 3px 1px rgba(60, 64, 67, 0.15);\n",
              "      fill: #174EA6;\n",
              "    }\n",
              "\n",
              "    [theme=dark] .colab-df-convert {\n",
              "      background-color: #3B4455;\n",
              "      fill: #D2E3FC;\n",
              "    }\n",
              "\n",
              "    [theme=dark] .colab-df-convert:hover {\n",
              "      background-color: #434B5C;\n",
              "      box-shadow: 0px 1px 3px 1px rgba(0, 0, 0, 0.15);\n",
              "      filter: drop-shadow(0px 1px 2px rgba(0, 0, 0, 0.3));\n",
              "      fill: #FFFFFF;\n",
              "    }\n",
              "  </style>\n",
              "\n",
              "      <script>\n",
              "        const buttonEl =\n",
              "          document.querySelector('#df-0799c3ca-fd6c-4ab3-86ab-513858ac2160 button.colab-df-convert');\n",
              "        buttonEl.style.display =\n",
              "          google.colab.kernel.accessAllowed ? 'block' : 'none';\n",
              "\n",
              "        async function convertToInteractive(key) {\n",
              "          const element = document.querySelector('#df-0799c3ca-fd6c-4ab3-86ab-513858ac2160');\n",
              "          const dataTable =\n",
              "            await google.colab.kernel.invokeFunction('convertToInteractive',\n",
              "                                                     [key], {});\n",
              "          if (!dataTable) return;\n",
              "\n",
              "          const docLinkHtml = 'Like what you see? Visit the ' +\n",
              "            '<a target=\"_blank\" href=https://colab.research.google.com/notebooks/data_table.ipynb>data table notebook</a>'\n",
              "            + ' to learn more about interactive tables.';\n",
              "          element.innerHTML = '';\n",
              "          dataTable['output_type'] = 'display_data';\n",
              "          await google.colab.output.renderOutput(dataTable, element);\n",
              "          const docLink = document.createElement('div');\n",
              "          docLink.innerHTML = docLinkHtml;\n",
              "          element.appendChild(docLink);\n",
              "        }\n",
              "      </script>\n",
              "    </div>\n",
              "  </div>\n",
              "  "
            ]
          },
          "metadata": {},
          "execution_count": 300
        }
      ]
    },
    {
      "cell_type": "code",
      "source": [
        "categorical_col=['store_and_fwd_flag','pickup_weekday','dropoff_weekday']"
      ],
      "metadata": {
        "id": "REkK1wcrIBL3"
      },
      "execution_count": null,
      "outputs": []
    },
    {
      "cell_type": "code",
      "source": [
        "df_train=pd.get_dummies(df, columns = categorical_col,drop_first=True)"
      ],
      "metadata": {
        "id": "TUjAViF1Jxzu"
      },
      "execution_count": null,
      "outputs": []
    },
    {
      "cell_type": "code",
      "source": [
        "df_train.head()"
      ],
      "metadata": {
        "colab": {
          "base_uri": "https://localhost:8080/",
          "height": 356
        },
        "id": "FXT3eeLzJwtN",
        "outputId": "512ae62d-1a3e-4afb-d195-d64094e78fa9"
      },
      "execution_count": null,
      "outputs": [
        {
          "output_type": "execute_result",
          "data": {
            "text/plain": [
              "          id  vendor_id     pickup_datetime    dropoff_datetime  \\\n",
              "0  id2875421          2 2016-03-14 17:24:55 2016-03-14 17:32:30   \n",
              "1  id2377394          1 2016-06-12 00:43:35 2016-06-12 00:54:38   \n",
              "2  id3858529          2 2016-01-19 11:35:24 2016-01-19 12:10:48   \n",
              "3  id3504673          2 2016-04-06 19:32:31 2016-04-06 19:39:40   \n",
              "4  id2181028          2 2016-03-26 13:30:55 2016-03-26 13:38:10   \n",
              "\n",
              "   passenger_count  pickup_longitude  pickup_latitude  dropoff_longitude  \\\n",
              "0                1            -73.98            40.77             -73.96   \n",
              "1                1            -73.98            40.74             -74.00   \n",
              "2                1            -73.98            40.76             -74.01   \n",
              "3                1            -74.01            40.72             -74.01   \n",
              "4                1            -73.97            40.79             -73.97   \n",
              "\n",
              "   dropoff_latitude  trip_duration  Distance  haversine_distance  \\\n",
              "0             40.77            455      1.22                0.93   \n",
              "1             40.73            663      1.33                1.12   \n",
              "2             40.71           2124      2.10                3.97   \n",
              "3             40.71            429      0.30                0.92   \n",
              "4             40.78            435      0.20                0.74   \n",
              "\n",
              "   manhattan_distance pickup_date dropoff_date  pickup_month  dropoff_month  \\\n",
              "0                1.08  2016-03-14   2016-03-14             3              3   \n",
              "1                1.51  2016-06-12   2016-06-12             6              6   \n",
              "2                5.10  2016-01-19   2016-01-19             1              1   \n",
              "3                1.03  2016-04-06   2016-04-06             4              4   \n",
              "4                0.75  2016-03-26   2016-03-26             3              3   \n",
              "\n",
              "  Pick_Up_time Drop_off_time  pickup_Year  dropoff_Year  pickup_datetime_hour  \\\n",
              "0     17:24:55      17:32:30         2016          2016                    17   \n",
              "1     00:43:35      00:54:38         2016          2016                     0   \n",
              "2     11:35:24      12:10:48         2016          2016                    11   \n",
              "3     19:32:31      19:39:40         2016          2016                    19   \n",
              "4     13:30:55      13:38:10         2016          2016                    13   \n",
              "\n",
              "   dropoff_datetime_hour  Avg_speed  store_and_fwd_flag_Y  \\\n",
              "0                     17       9.62                     0   \n",
              "1                      0       7.22                     0   \n",
              "2                     12       3.55                     0   \n",
              "3                     19       2.49                     0   \n",
              "4                     13       1.70                     0   \n",
              "\n",
              "   pickup_weekday_Monday  pickup_weekday_Saturday  pickup_weekday_Sunday  \\\n",
              "0                      1                        0                      0   \n",
              "1                      0                        0                      1   \n",
              "2                      0                        0                      0   \n",
              "3                      0                        0                      0   \n",
              "4                      0                        1                      0   \n",
              "\n",
              "   pickup_weekday_Thursday  pickup_weekday_Tuesday  pickup_weekday_Wednesday  \\\n",
              "0                        0                       0                         0   \n",
              "1                        0                       0                         0   \n",
              "2                        0                       1                         0   \n",
              "3                        0                       0                         1   \n",
              "4                        0                       0                         0   \n",
              "\n",
              "   dropoff_weekday_Monday  dropoff_weekday_Saturday  dropoff_weekday_Sunday  \\\n",
              "0                       1                         0                       0   \n",
              "1                       0                         0                       1   \n",
              "2                       0                         0                       0   \n",
              "3                       0                         0                       0   \n",
              "4                       0                         1                       0   \n",
              "\n",
              "   dropoff_weekday_Thursday  dropoff_weekday_Tuesday  \\\n",
              "0                         0                        0   \n",
              "1                         0                        0   \n",
              "2                         0                        1   \n",
              "3                         0                        0   \n",
              "4                         0                        0   \n",
              "\n",
              "   dropoff_weekday_Wednesday  \n",
              "0                          0  \n",
              "1                          0  \n",
              "2                          0  \n",
              "3                          1  \n",
              "4                          0  "
            ],
            "text/html": [
              "\n",
              "  <div id=\"df-3b012c6a-8042-423f-8a91-84ee4f1161ce\">\n",
              "    <div class=\"colab-df-container\">\n",
              "      <div>\n",
              "<style scoped>\n",
              "    .dataframe tbody tr th:only-of-type {\n",
              "        vertical-align: middle;\n",
              "    }\n",
              "\n",
              "    .dataframe tbody tr th {\n",
              "        vertical-align: top;\n",
              "    }\n",
              "\n",
              "    .dataframe thead th {\n",
              "        text-align: right;\n",
              "    }\n",
              "</style>\n",
              "<table border=\"1\" class=\"dataframe\">\n",
              "  <thead>\n",
              "    <tr style=\"text-align: right;\">\n",
              "      <th></th>\n",
              "      <th>id</th>\n",
              "      <th>vendor_id</th>\n",
              "      <th>pickup_datetime</th>\n",
              "      <th>dropoff_datetime</th>\n",
              "      <th>passenger_count</th>\n",
              "      <th>pickup_longitude</th>\n",
              "      <th>pickup_latitude</th>\n",
              "      <th>dropoff_longitude</th>\n",
              "      <th>dropoff_latitude</th>\n",
              "      <th>trip_duration</th>\n",
              "      <th>Distance</th>\n",
              "      <th>haversine_distance</th>\n",
              "      <th>manhattan_distance</th>\n",
              "      <th>pickup_date</th>\n",
              "      <th>dropoff_date</th>\n",
              "      <th>pickup_month</th>\n",
              "      <th>dropoff_month</th>\n",
              "      <th>Pick_Up_time</th>\n",
              "      <th>Drop_off_time</th>\n",
              "      <th>pickup_Year</th>\n",
              "      <th>dropoff_Year</th>\n",
              "      <th>pickup_datetime_hour</th>\n",
              "      <th>dropoff_datetime_hour</th>\n",
              "      <th>Avg_speed</th>\n",
              "      <th>store_and_fwd_flag_Y</th>\n",
              "      <th>pickup_weekday_Monday</th>\n",
              "      <th>pickup_weekday_Saturday</th>\n",
              "      <th>pickup_weekday_Sunday</th>\n",
              "      <th>pickup_weekday_Thursday</th>\n",
              "      <th>pickup_weekday_Tuesday</th>\n",
              "      <th>pickup_weekday_Wednesday</th>\n",
              "      <th>dropoff_weekday_Monday</th>\n",
              "      <th>dropoff_weekday_Saturday</th>\n",
              "      <th>dropoff_weekday_Sunday</th>\n",
              "      <th>dropoff_weekday_Thursday</th>\n",
              "      <th>dropoff_weekday_Tuesday</th>\n",
              "      <th>dropoff_weekday_Wednesday</th>\n",
              "    </tr>\n",
              "  </thead>\n",
              "  <tbody>\n",
              "    <tr>\n",
              "      <th>0</th>\n",
              "      <td>id2875421</td>\n",
              "      <td>2</td>\n",
              "      <td>2016-03-14 17:24:55</td>\n",
              "      <td>2016-03-14 17:32:30</td>\n",
              "      <td>1</td>\n",
              "      <td>-73.98</td>\n",
              "      <td>40.77</td>\n",
              "      <td>-73.96</td>\n",
              "      <td>40.77</td>\n",
              "      <td>455</td>\n",
              "      <td>1.22</td>\n",
              "      <td>0.93</td>\n",
              "      <td>1.08</td>\n",
              "      <td>2016-03-14</td>\n",
              "      <td>2016-03-14</td>\n",
              "      <td>3</td>\n",
              "      <td>3</td>\n",
              "      <td>17:24:55</td>\n",
              "      <td>17:32:30</td>\n",
              "      <td>2016</td>\n",
              "      <td>2016</td>\n",
              "      <td>17</td>\n",
              "      <td>17</td>\n",
              "      <td>9.62</td>\n",
              "      <td>0</td>\n",
              "      <td>1</td>\n",
              "      <td>0</td>\n",
              "      <td>0</td>\n",
              "      <td>0</td>\n",
              "      <td>0</td>\n",
              "      <td>0</td>\n",
              "      <td>1</td>\n",
              "      <td>0</td>\n",
              "      <td>0</td>\n",
              "      <td>0</td>\n",
              "      <td>0</td>\n",
              "      <td>0</td>\n",
              "    </tr>\n",
              "    <tr>\n",
              "      <th>1</th>\n",
              "      <td>id2377394</td>\n",
              "      <td>1</td>\n",
              "      <td>2016-06-12 00:43:35</td>\n",
              "      <td>2016-06-12 00:54:38</td>\n",
              "      <td>1</td>\n",
              "      <td>-73.98</td>\n",
              "      <td>40.74</td>\n",
              "      <td>-74.00</td>\n",
              "      <td>40.73</td>\n",
              "      <td>663</td>\n",
              "      <td>1.33</td>\n",
              "      <td>1.12</td>\n",
              "      <td>1.51</td>\n",
              "      <td>2016-06-12</td>\n",
              "      <td>2016-06-12</td>\n",
              "      <td>6</td>\n",
              "      <td>6</td>\n",
              "      <td>00:43:35</td>\n",
              "      <td>00:54:38</td>\n",
              "      <td>2016</td>\n",
              "      <td>2016</td>\n",
              "      <td>0</td>\n",
              "      <td>0</td>\n",
              "      <td>7.22</td>\n",
              "      <td>0</td>\n",
              "      <td>0</td>\n",
              "      <td>0</td>\n",
              "      <td>1</td>\n",
              "      <td>0</td>\n",
              "      <td>0</td>\n",
              "      <td>0</td>\n",
              "      <td>0</td>\n",
              "      <td>0</td>\n",
              "      <td>1</td>\n",
              "      <td>0</td>\n",
              "      <td>0</td>\n",
              "      <td>0</td>\n",
              "    </tr>\n",
              "    <tr>\n",
              "      <th>2</th>\n",
              "      <td>id3858529</td>\n",
              "      <td>2</td>\n",
              "      <td>2016-01-19 11:35:24</td>\n",
              "      <td>2016-01-19 12:10:48</td>\n",
              "      <td>1</td>\n",
              "      <td>-73.98</td>\n",
              "      <td>40.76</td>\n",
              "      <td>-74.01</td>\n",
              "      <td>40.71</td>\n",
              "      <td>2124</td>\n",
              "      <td>2.10</td>\n",
              "      <td>3.97</td>\n",
              "      <td>5.10</td>\n",
              "      <td>2016-01-19</td>\n",
              "      <td>2016-01-19</td>\n",
              "      <td>1</td>\n",
              "      <td>1</td>\n",
              "      <td>11:35:24</td>\n",
              "      <td>12:10:48</td>\n",
              "      <td>2016</td>\n",
              "      <td>2016</td>\n",
              "      <td>11</td>\n",
              "      <td>12</td>\n",
              "      <td>3.55</td>\n",
              "      <td>0</td>\n",
              "      <td>0</td>\n",
              "      <td>0</td>\n",
              "      <td>0</td>\n",
              "      <td>0</td>\n",
              "      <td>1</td>\n",
              "      <td>0</td>\n",
              "      <td>0</td>\n",
              "      <td>0</td>\n",
              "      <td>0</td>\n",
              "      <td>0</td>\n",
              "      <td>1</td>\n",
              "      <td>0</td>\n",
              "    </tr>\n",
              "    <tr>\n",
              "      <th>3</th>\n",
              "      <td>id3504673</td>\n",
              "      <td>2</td>\n",
              "      <td>2016-04-06 19:32:31</td>\n",
              "      <td>2016-04-06 19:39:40</td>\n",
              "      <td>1</td>\n",
              "      <td>-74.01</td>\n",
              "      <td>40.72</td>\n",
              "      <td>-74.01</td>\n",
              "      <td>40.71</td>\n",
              "      <td>429</td>\n",
              "      <td>0.30</td>\n",
              "      <td>0.92</td>\n",
              "      <td>1.03</td>\n",
              "      <td>2016-04-06</td>\n",
              "      <td>2016-04-06</td>\n",
              "      <td>4</td>\n",
              "      <td>4</td>\n",
              "      <td>19:32:31</td>\n",
              "      <td>19:39:40</td>\n",
              "      <td>2016</td>\n",
              "      <td>2016</td>\n",
              "      <td>19</td>\n",
              "      <td>19</td>\n",
              "      <td>2.49</td>\n",
              "      <td>0</td>\n",
              "      <td>0</td>\n",
              "      <td>0</td>\n",
              "      <td>0</td>\n",
              "      <td>0</td>\n",
              "      <td>0</td>\n",
              "      <td>1</td>\n",
              "      <td>0</td>\n",
              "      <td>0</td>\n",
              "      <td>0</td>\n",
              "      <td>0</td>\n",
              "      <td>0</td>\n",
              "      <td>1</td>\n",
              "    </tr>\n",
              "    <tr>\n",
              "      <th>4</th>\n",
              "      <td>id2181028</td>\n",
              "      <td>2</td>\n",
              "      <td>2016-03-26 13:30:55</td>\n",
              "      <td>2016-03-26 13:38:10</td>\n",
              "      <td>1</td>\n",
              "      <td>-73.97</td>\n",
              "      <td>40.79</td>\n",
              "      <td>-73.97</td>\n",
              "      <td>40.78</td>\n",
              "      <td>435</td>\n",
              "      <td>0.20</td>\n",
              "      <td>0.74</td>\n",
              "      <td>0.75</td>\n",
              "      <td>2016-03-26</td>\n",
              "      <td>2016-03-26</td>\n",
              "      <td>3</td>\n",
              "      <td>3</td>\n",
              "      <td>13:30:55</td>\n",
              "      <td>13:38:10</td>\n",
              "      <td>2016</td>\n",
              "      <td>2016</td>\n",
              "      <td>13</td>\n",
              "      <td>13</td>\n",
              "      <td>1.70</td>\n",
              "      <td>0</td>\n",
              "      <td>0</td>\n",
              "      <td>1</td>\n",
              "      <td>0</td>\n",
              "      <td>0</td>\n",
              "      <td>0</td>\n",
              "      <td>0</td>\n",
              "      <td>0</td>\n",
              "      <td>1</td>\n",
              "      <td>0</td>\n",
              "      <td>0</td>\n",
              "      <td>0</td>\n",
              "      <td>0</td>\n",
              "    </tr>\n",
              "  </tbody>\n",
              "</table>\n",
              "</div>\n",
              "      <button class=\"colab-df-convert\" onclick=\"convertToInteractive('df-3b012c6a-8042-423f-8a91-84ee4f1161ce')\"\n",
              "              title=\"Convert this dataframe to an interactive table.\"\n",
              "              style=\"display:none;\">\n",
              "        \n",
              "  <svg xmlns=\"http://www.w3.org/2000/svg\" height=\"24px\"viewBox=\"0 0 24 24\"\n",
              "       width=\"24px\">\n",
              "    <path d=\"M0 0h24v24H0V0z\" fill=\"none\"/>\n",
              "    <path d=\"M18.56 5.44l.94 2.06.94-2.06 2.06-.94-2.06-.94-.94-2.06-.94 2.06-2.06.94zm-11 1L8.5 8.5l.94-2.06 2.06-.94-2.06-.94L8.5 2.5l-.94 2.06-2.06.94zm10 10l.94 2.06.94-2.06 2.06-.94-2.06-.94-.94-2.06-.94 2.06-2.06.94z\"/><path d=\"M17.41 7.96l-1.37-1.37c-.4-.4-.92-.59-1.43-.59-.52 0-1.04.2-1.43.59L10.3 9.45l-7.72 7.72c-.78.78-.78 2.05 0 2.83L4 21.41c.39.39.9.59 1.41.59.51 0 1.02-.2 1.41-.59l7.78-7.78 2.81-2.81c.8-.78.8-2.07 0-2.86zM5.41 20L4 18.59l7.72-7.72 1.47 1.35L5.41 20z\"/>\n",
              "  </svg>\n",
              "      </button>\n",
              "      \n",
              "  <style>\n",
              "    .colab-df-container {\n",
              "      display:flex;\n",
              "      flex-wrap:wrap;\n",
              "      gap: 12px;\n",
              "    }\n",
              "\n",
              "    .colab-df-convert {\n",
              "      background-color: #E8F0FE;\n",
              "      border: none;\n",
              "      border-radius: 50%;\n",
              "      cursor: pointer;\n",
              "      display: none;\n",
              "      fill: #1967D2;\n",
              "      height: 32px;\n",
              "      padding: 0 0 0 0;\n",
              "      width: 32px;\n",
              "    }\n",
              "\n",
              "    .colab-df-convert:hover {\n",
              "      background-color: #E2EBFA;\n",
              "      box-shadow: 0px 1px 2px rgba(60, 64, 67, 0.3), 0px 1px 3px 1px rgba(60, 64, 67, 0.15);\n",
              "      fill: #174EA6;\n",
              "    }\n",
              "\n",
              "    [theme=dark] .colab-df-convert {\n",
              "      background-color: #3B4455;\n",
              "      fill: #D2E3FC;\n",
              "    }\n",
              "\n",
              "    [theme=dark] .colab-df-convert:hover {\n",
              "      background-color: #434B5C;\n",
              "      box-shadow: 0px 1px 3px 1px rgba(0, 0, 0, 0.15);\n",
              "      filter: drop-shadow(0px 1px 2px rgba(0, 0, 0, 0.3));\n",
              "      fill: #FFFFFF;\n",
              "    }\n",
              "  </style>\n",
              "\n",
              "      <script>\n",
              "        const buttonEl =\n",
              "          document.querySelector('#df-3b012c6a-8042-423f-8a91-84ee4f1161ce button.colab-df-convert');\n",
              "        buttonEl.style.display =\n",
              "          google.colab.kernel.accessAllowed ? 'block' : 'none';\n",
              "\n",
              "        async function convertToInteractive(key) {\n",
              "          const element = document.querySelector('#df-3b012c6a-8042-423f-8a91-84ee4f1161ce');\n",
              "          const dataTable =\n",
              "            await google.colab.kernel.invokeFunction('convertToInteractive',\n",
              "                                                     [key], {});\n",
              "          if (!dataTable) return;\n",
              "\n",
              "          const docLinkHtml = 'Like what you see? Visit the ' +\n",
              "            '<a target=\"_blank\" href=https://colab.research.google.com/notebooks/data_table.ipynb>data table notebook</a>'\n",
              "            + ' to learn more about interactive tables.';\n",
              "          element.innerHTML = '';\n",
              "          dataTable['output_type'] = 'display_data';\n",
              "          await google.colab.output.renderOutput(dataTable, element);\n",
              "          const docLink = document.createElement('div');\n",
              "          docLink.innerHTML = docLinkHtml;\n",
              "          element.appendChild(docLink);\n",
              "        }\n",
              "      </script>\n",
              "    </div>\n",
              "  </div>\n",
              "  "
            ]
          },
          "metadata": {},
          "execution_count": 303
        }
      ]
    },
    {
      "cell_type": "code",
      "source": [
        "df_train.drop(['id','pickup_datetime','dropoff_datetime','pickup_date','dropoff_date','Pick_Up_time','Drop_off_time'],axis=1,inplace=True)"
      ],
      "metadata": {
        "id": "DrVgiOA7LeYF"
      },
      "execution_count": null,
      "outputs": []
    },
    {
      "cell_type": "code",
      "source": [
        "df_train"
      ],
      "metadata": {
        "colab": {
          "base_uri": "https://localhost:8080/",
          "height": 487
        },
        "id": "wVf6-E24L29l",
        "outputId": "290ebdec-4be8-4527-b94d-f927ff95b861"
      },
      "execution_count": null,
      "outputs": [
        {
          "output_type": "execute_result",
          "data": {
            "text/plain": [
              "         vendor_id  passenger_count  pickup_longitude  pickup_latitude  \\\n",
              "0                2                1            -73.98            40.77   \n",
              "1                1                1            -73.98            40.74   \n",
              "2                2                1            -73.98            40.76   \n",
              "3                2                1            -74.01            40.72   \n",
              "4                2                1            -73.97            40.79   \n",
              "...            ...              ...               ...              ...   \n",
              "1354578          2                4            -73.98            40.75   \n",
              "1354579          1                1            -74.00            40.75   \n",
              "1354580          2                1            -73.96            40.77   \n",
              "1354581          1                1            -73.98            40.75   \n",
              "1354582          1                1            -73.98            40.78   \n",
              "\n",
              "         dropoff_longitude  dropoff_latitude  trip_duration  Distance  \\\n",
              "0                   -73.96             40.77            455      1.22   \n",
              "1                   -74.00             40.73            663      1.33   \n",
              "2                   -74.01             40.71           2124      2.10   \n",
              "3                   -74.01             40.71            429      0.30   \n",
              "4                   -73.97             40.78            435      0.20   \n",
              "...                    ...               ...            ...       ...   \n",
              "1354578             -73.99             40.74            778      0.89   \n",
              "1354579             -73.97             40.80            655      2.33   \n",
              "1354580             -74.00             40.71            764      3.35   \n",
              "1354581             -73.97             40.76            373      0.54   \n",
              "1354582             -73.97             40.79            198      0.50   \n",
              "\n",
              "         haversine_distance  manhattan_distance  pickup_month  dropoff_month  \\\n",
              "0                      0.93                1.08             3              3   \n",
              "1                      1.12                1.51             6              6   \n",
              "2                      3.97                5.10             1              1   \n",
              "3                      0.92                1.03             4              4   \n",
              "4                      0.74                0.75             3              3   \n",
              "...                     ...                 ...           ...            ...   \n",
              "1354578                0.76                1.04             4              4   \n",
              "1354579                3.76                5.01             1              1   \n",
              "1354580                4.86                6.61             4              4   \n",
              "1354581                0.68                0.95             1              1   \n",
              "1354582                0.70                0.96             4              4   \n",
              "\n",
              "         pickup_Year  dropoff_Year  pickup_datetime_hour  \\\n",
              "0               2016          2016                    17   \n",
              "1               2016          2016                     0   \n",
              "2               2016          2016                    11   \n",
              "3               2016          2016                    19   \n",
              "4               2016          2016                    13   \n",
              "...              ...           ...                   ...   \n",
              "1354578         2016          2016                    13   \n",
              "1354579         2016          2016                     7   \n",
              "1354580         2016          2016                     6   \n",
              "1354581         2016          2016                    15   \n",
              "1354582         2016          2016                    14   \n",
              "\n",
              "         dropoff_datetime_hour  Avg_speed  store_and_fwd_flag_Y  \\\n",
              "0                           17       9.62                     0   \n",
              "1                            0       7.22                     0   \n",
              "2                           12       3.55                     0   \n",
              "3                           19       2.49                     0   \n",
              "4                           13       1.70                     0   \n",
              "...                        ...        ...                   ...   \n",
              "1354578                     13       4.11                     0   \n",
              "1354579                      7      12.82                     0   \n",
              "1354580                      7      15.81                     0   \n",
              "1354581                     16       5.20                     0   \n",
              "1354582                     14       9.03                     0   \n",
              "\n",
              "         pickup_weekday_Monday  pickup_weekday_Saturday  \\\n",
              "0                            1                        0   \n",
              "1                            0                        0   \n",
              "2                            0                        0   \n",
              "3                            0                        0   \n",
              "4                            0                        1   \n",
              "...                        ...                      ...   \n",
              "1354578                      0                        0   \n",
              "1354579                      0                        0   \n",
              "1354580                      0                        0   \n",
              "1354581                      0                        0   \n",
              "1354582                      0                        0   \n",
              "\n",
              "         pickup_weekday_Sunday  pickup_weekday_Thursday  \\\n",
              "0                            0                        0   \n",
              "1                            1                        0   \n",
              "2                            0                        0   \n",
              "3                            0                        0   \n",
              "4                            0                        0   \n",
              "...                        ...                      ...   \n",
              "1354578                      0                        0   \n",
              "1354579                      1                        0   \n",
              "1354580                      0                        0   \n",
              "1354581                      0                        0   \n",
              "1354582                      0                        0   \n",
              "\n",
              "         pickup_weekday_Tuesday  pickup_weekday_Wednesday  \\\n",
              "0                             0                         0   \n",
              "1                             0                         0   \n",
              "2                             1                         0   \n",
              "3                             0                         1   \n",
              "4                             0                         0   \n",
              "...                         ...                       ...   \n",
              "1354578                       0                         0   \n",
              "1354579                       0                         0   \n",
              "1354580                       0                         0   \n",
              "1354581                       1                         0   \n",
              "1354582                       1                         0   \n",
              "\n",
              "         dropoff_weekday_Monday  dropoff_weekday_Saturday  \\\n",
              "0                             1                         0   \n",
              "1                             0                         0   \n",
              "2                             0                         0   \n",
              "3                             0                         0   \n",
              "4                             0                         1   \n",
              "...                         ...                       ...   \n",
              "1354578                       0                         0   \n",
              "1354579                       0                         0   \n",
              "1354580                       0                         0   \n",
              "1354581                       0                         0   \n",
              "1354582                       0                         0   \n",
              "\n",
              "         dropoff_weekday_Sunday  dropoff_weekday_Thursday  \\\n",
              "0                             0                         0   \n",
              "1                             1                         0   \n",
              "2                             0                         0   \n",
              "3                             0                         0   \n",
              "4                             0                         0   \n",
              "...                         ...                       ...   \n",
              "1354578                       0                         0   \n",
              "1354579                       1                         0   \n",
              "1354580                       0                         0   \n",
              "1354581                       0                         0   \n",
              "1354582                       0                         0   \n",
              "\n",
              "         dropoff_weekday_Tuesday  dropoff_weekday_Wednesday  \n",
              "0                              0                          0  \n",
              "1                              0                          0  \n",
              "2                              1                          0  \n",
              "3                              0                          1  \n",
              "4                              0                          0  \n",
              "...                          ...                        ...  \n",
              "1354578                        0                          0  \n",
              "1354579                        0                          0  \n",
              "1354580                        0                          0  \n",
              "1354581                        1                          0  \n",
              "1354582                        1                          0  \n",
              "\n",
              "[1242337 rows x 30 columns]"
            ],
            "text/html": [
              "\n",
              "  <div id=\"df-f21f3d21-3965-4e04-889b-592212143c30\">\n",
              "    <div class=\"colab-df-container\">\n",
              "      <div>\n",
              "<style scoped>\n",
              "    .dataframe tbody tr th:only-of-type {\n",
              "        vertical-align: middle;\n",
              "    }\n",
              "\n",
              "    .dataframe tbody tr th {\n",
              "        vertical-align: top;\n",
              "    }\n",
              "\n",
              "    .dataframe thead th {\n",
              "        text-align: right;\n",
              "    }\n",
              "</style>\n",
              "<table border=\"1\" class=\"dataframe\">\n",
              "  <thead>\n",
              "    <tr style=\"text-align: right;\">\n",
              "      <th></th>\n",
              "      <th>vendor_id</th>\n",
              "      <th>passenger_count</th>\n",
              "      <th>pickup_longitude</th>\n",
              "      <th>pickup_latitude</th>\n",
              "      <th>dropoff_longitude</th>\n",
              "      <th>dropoff_latitude</th>\n",
              "      <th>trip_duration</th>\n",
              "      <th>Distance</th>\n",
              "      <th>haversine_distance</th>\n",
              "      <th>manhattan_distance</th>\n",
              "      <th>pickup_month</th>\n",
              "      <th>dropoff_month</th>\n",
              "      <th>pickup_Year</th>\n",
              "      <th>dropoff_Year</th>\n",
              "      <th>pickup_datetime_hour</th>\n",
              "      <th>dropoff_datetime_hour</th>\n",
              "      <th>Avg_speed</th>\n",
              "      <th>store_and_fwd_flag_Y</th>\n",
              "      <th>pickup_weekday_Monday</th>\n",
              "      <th>pickup_weekday_Saturday</th>\n",
              "      <th>pickup_weekday_Sunday</th>\n",
              "      <th>pickup_weekday_Thursday</th>\n",
              "      <th>pickup_weekday_Tuesday</th>\n",
              "      <th>pickup_weekday_Wednesday</th>\n",
              "      <th>dropoff_weekday_Monday</th>\n",
              "      <th>dropoff_weekday_Saturday</th>\n",
              "      <th>dropoff_weekday_Sunday</th>\n",
              "      <th>dropoff_weekday_Thursday</th>\n",
              "      <th>dropoff_weekday_Tuesday</th>\n",
              "      <th>dropoff_weekday_Wednesday</th>\n",
              "    </tr>\n",
              "  </thead>\n",
              "  <tbody>\n",
              "    <tr>\n",
              "      <th>0</th>\n",
              "      <td>2</td>\n",
              "      <td>1</td>\n",
              "      <td>-73.98</td>\n",
              "      <td>40.77</td>\n",
              "      <td>-73.96</td>\n",
              "      <td>40.77</td>\n",
              "      <td>455</td>\n",
              "      <td>1.22</td>\n",
              "      <td>0.93</td>\n",
              "      <td>1.08</td>\n",
              "      <td>3</td>\n",
              "      <td>3</td>\n",
              "      <td>2016</td>\n",
              "      <td>2016</td>\n",
              "      <td>17</td>\n",
              "      <td>17</td>\n",
              "      <td>9.62</td>\n",
              "      <td>0</td>\n",
              "      <td>1</td>\n",
              "      <td>0</td>\n",
              "      <td>0</td>\n",
              "      <td>0</td>\n",
              "      <td>0</td>\n",
              "      <td>0</td>\n",
              "      <td>1</td>\n",
              "      <td>0</td>\n",
              "      <td>0</td>\n",
              "      <td>0</td>\n",
              "      <td>0</td>\n",
              "      <td>0</td>\n",
              "    </tr>\n",
              "    <tr>\n",
              "      <th>1</th>\n",
              "      <td>1</td>\n",
              "      <td>1</td>\n",
              "      <td>-73.98</td>\n",
              "      <td>40.74</td>\n",
              "      <td>-74.00</td>\n",
              "      <td>40.73</td>\n",
              "      <td>663</td>\n",
              "      <td>1.33</td>\n",
              "      <td>1.12</td>\n",
              "      <td>1.51</td>\n",
              "      <td>6</td>\n",
              "      <td>6</td>\n",
              "      <td>2016</td>\n",
              "      <td>2016</td>\n",
              "      <td>0</td>\n",
              "      <td>0</td>\n",
              "      <td>7.22</td>\n",
              "      <td>0</td>\n",
              "      <td>0</td>\n",
              "      <td>0</td>\n",
              "      <td>1</td>\n",
              "      <td>0</td>\n",
              "      <td>0</td>\n",
              "      <td>0</td>\n",
              "      <td>0</td>\n",
              "      <td>0</td>\n",
              "      <td>1</td>\n",
              "      <td>0</td>\n",
              "      <td>0</td>\n",
              "      <td>0</td>\n",
              "    </tr>\n",
              "    <tr>\n",
              "      <th>2</th>\n",
              "      <td>2</td>\n",
              "      <td>1</td>\n",
              "      <td>-73.98</td>\n",
              "      <td>40.76</td>\n",
              "      <td>-74.01</td>\n",
              "      <td>40.71</td>\n",
              "      <td>2124</td>\n",
              "      <td>2.10</td>\n",
              "      <td>3.97</td>\n",
              "      <td>5.10</td>\n",
              "      <td>1</td>\n",
              "      <td>1</td>\n",
              "      <td>2016</td>\n",
              "      <td>2016</td>\n",
              "      <td>11</td>\n",
              "      <td>12</td>\n",
              "      <td>3.55</td>\n",
              "      <td>0</td>\n",
              "      <td>0</td>\n",
              "      <td>0</td>\n",
              "      <td>0</td>\n",
              "      <td>0</td>\n",
              "      <td>1</td>\n",
              "      <td>0</td>\n",
              "      <td>0</td>\n",
              "      <td>0</td>\n",
              "      <td>0</td>\n",
              "      <td>0</td>\n",
              "      <td>1</td>\n",
              "      <td>0</td>\n",
              "    </tr>\n",
              "    <tr>\n",
              "      <th>3</th>\n",
              "      <td>2</td>\n",
              "      <td>1</td>\n",
              "      <td>-74.01</td>\n",
              "      <td>40.72</td>\n",
              "      <td>-74.01</td>\n",
              "      <td>40.71</td>\n",
              "      <td>429</td>\n",
              "      <td>0.30</td>\n",
              "      <td>0.92</td>\n",
              "      <td>1.03</td>\n",
              "      <td>4</td>\n",
              "      <td>4</td>\n",
              "      <td>2016</td>\n",
              "      <td>2016</td>\n",
              "      <td>19</td>\n",
              "      <td>19</td>\n",
              "      <td>2.49</td>\n",
              "      <td>0</td>\n",
              "      <td>0</td>\n",
              "      <td>0</td>\n",
              "      <td>0</td>\n",
              "      <td>0</td>\n",
              "      <td>0</td>\n",
              "      <td>1</td>\n",
              "      <td>0</td>\n",
              "      <td>0</td>\n",
              "      <td>0</td>\n",
              "      <td>0</td>\n",
              "      <td>0</td>\n",
              "      <td>1</td>\n",
              "    </tr>\n",
              "    <tr>\n",
              "      <th>4</th>\n",
              "      <td>2</td>\n",
              "      <td>1</td>\n",
              "      <td>-73.97</td>\n",
              "      <td>40.79</td>\n",
              "      <td>-73.97</td>\n",
              "      <td>40.78</td>\n",
              "      <td>435</td>\n",
              "      <td>0.20</td>\n",
              "      <td>0.74</td>\n",
              "      <td>0.75</td>\n",
              "      <td>3</td>\n",
              "      <td>3</td>\n",
              "      <td>2016</td>\n",
              "      <td>2016</td>\n",
              "      <td>13</td>\n",
              "      <td>13</td>\n",
              "      <td>1.70</td>\n",
              "      <td>0</td>\n",
              "      <td>0</td>\n",
              "      <td>1</td>\n",
              "      <td>0</td>\n",
              "      <td>0</td>\n",
              "      <td>0</td>\n",
              "      <td>0</td>\n",
              "      <td>0</td>\n",
              "      <td>1</td>\n",
              "      <td>0</td>\n",
              "      <td>0</td>\n",
              "      <td>0</td>\n",
              "      <td>0</td>\n",
              "    </tr>\n",
              "    <tr>\n",
              "      <th>...</th>\n",
              "      <td>...</td>\n",
              "      <td>...</td>\n",
              "      <td>...</td>\n",
              "      <td>...</td>\n",
              "      <td>...</td>\n",
              "      <td>...</td>\n",
              "      <td>...</td>\n",
              "      <td>...</td>\n",
              "      <td>...</td>\n",
              "      <td>...</td>\n",
              "      <td>...</td>\n",
              "      <td>...</td>\n",
              "      <td>...</td>\n",
              "      <td>...</td>\n",
              "      <td>...</td>\n",
              "      <td>...</td>\n",
              "      <td>...</td>\n",
              "      <td>...</td>\n",
              "      <td>...</td>\n",
              "      <td>...</td>\n",
              "      <td>...</td>\n",
              "      <td>...</td>\n",
              "      <td>...</td>\n",
              "      <td>...</td>\n",
              "      <td>...</td>\n",
              "      <td>...</td>\n",
              "      <td>...</td>\n",
              "      <td>...</td>\n",
              "      <td>...</td>\n",
              "      <td>...</td>\n",
              "    </tr>\n",
              "    <tr>\n",
              "      <th>1354578</th>\n",
              "      <td>2</td>\n",
              "      <td>4</td>\n",
              "      <td>-73.98</td>\n",
              "      <td>40.75</td>\n",
              "      <td>-73.99</td>\n",
              "      <td>40.74</td>\n",
              "      <td>778</td>\n",
              "      <td>0.89</td>\n",
              "      <td>0.76</td>\n",
              "      <td>1.04</td>\n",
              "      <td>4</td>\n",
              "      <td>4</td>\n",
              "      <td>2016</td>\n",
              "      <td>2016</td>\n",
              "      <td>13</td>\n",
              "      <td>13</td>\n",
              "      <td>4.11</td>\n",
              "      <td>0</td>\n",
              "      <td>0</td>\n",
              "      <td>0</td>\n",
              "      <td>0</td>\n",
              "      <td>0</td>\n",
              "      <td>0</td>\n",
              "      <td>0</td>\n",
              "      <td>0</td>\n",
              "      <td>0</td>\n",
              "      <td>0</td>\n",
              "      <td>0</td>\n",
              "      <td>0</td>\n",
              "      <td>0</td>\n",
              "    </tr>\n",
              "    <tr>\n",
              "      <th>1354579</th>\n",
              "      <td>1</td>\n",
              "      <td>1</td>\n",
              "      <td>-74.00</td>\n",
              "      <td>40.75</td>\n",
              "      <td>-73.97</td>\n",
              "      <td>40.80</td>\n",
              "      <td>655</td>\n",
              "      <td>2.33</td>\n",
              "      <td>3.76</td>\n",
              "      <td>5.01</td>\n",
              "      <td>1</td>\n",
              "      <td>1</td>\n",
              "      <td>2016</td>\n",
              "      <td>2016</td>\n",
              "      <td>7</td>\n",
              "      <td>7</td>\n",
              "      <td>12.82</td>\n",
              "      <td>0</td>\n",
              "      <td>0</td>\n",
              "      <td>0</td>\n",
              "      <td>1</td>\n",
              "      <td>0</td>\n",
              "      <td>0</td>\n",
              "      <td>0</td>\n",
              "      <td>0</td>\n",
              "      <td>0</td>\n",
              "      <td>1</td>\n",
              "      <td>0</td>\n",
              "      <td>0</td>\n",
              "      <td>0</td>\n",
              "    </tr>\n",
              "    <tr>\n",
              "      <th>1354580</th>\n",
              "      <td>2</td>\n",
              "      <td>1</td>\n",
              "      <td>-73.96</td>\n",
              "      <td>40.77</td>\n",
              "      <td>-74.00</td>\n",
              "      <td>40.71</td>\n",
              "      <td>764</td>\n",
              "      <td>3.35</td>\n",
              "      <td>4.86</td>\n",
              "      <td>6.61</td>\n",
              "      <td>4</td>\n",
              "      <td>4</td>\n",
              "      <td>2016</td>\n",
              "      <td>2016</td>\n",
              "      <td>6</td>\n",
              "      <td>7</td>\n",
              "      <td>15.81</td>\n",
              "      <td>0</td>\n",
              "      <td>0</td>\n",
              "      <td>0</td>\n",
              "      <td>0</td>\n",
              "      <td>0</td>\n",
              "      <td>0</td>\n",
              "      <td>0</td>\n",
              "      <td>0</td>\n",
              "      <td>0</td>\n",
              "      <td>0</td>\n",
              "      <td>0</td>\n",
              "      <td>0</td>\n",
              "      <td>0</td>\n",
              "    </tr>\n",
              "    <tr>\n",
              "      <th>1354581</th>\n",
              "      <td>1</td>\n",
              "      <td>1</td>\n",
              "      <td>-73.98</td>\n",
              "      <td>40.75</td>\n",
              "      <td>-73.97</td>\n",
              "      <td>40.76</td>\n",
              "      <td>373</td>\n",
              "      <td>0.54</td>\n",
              "      <td>0.68</td>\n",
              "      <td>0.95</td>\n",
              "      <td>1</td>\n",
              "      <td>1</td>\n",
              "      <td>2016</td>\n",
              "      <td>2016</td>\n",
              "      <td>15</td>\n",
              "      <td>16</td>\n",
              "      <td>5.20</td>\n",
              "      <td>0</td>\n",
              "      <td>0</td>\n",
              "      <td>0</td>\n",
              "      <td>0</td>\n",
              "      <td>0</td>\n",
              "      <td>1</td>\n",
              "      <td>0</td>\n",
              "      <td>0</td>\n",
              "      <td>0</td>\n",
              "      <td>0</td>\n",
              "      <td>0</td>\n",
              "      <td>1</td>\n",
              "      <td>0</td>\n",
              "    </tr>\n",
              "    <tr>\n",
              "      <th>1354582</th>\n",
              "      <td>1</td>\n",
              "      <td>1</td>\n",
              "      <td>-73.98</td>\n",
              "      <td>40.78</td>\n",
              "      <td>-73.97</td>\n",
              "      <td>40.79</td>\n",
              "      <td>198</td>\n",
              "      <td>0.50</td>\n",
              "      <td>0.70</td>\n",
              "      <td>0.96</td>\n",
              "      <td>4</td>\n",
              "      <td>4</td>\n",
              "      <td>2016</td>\n",
              "      <td>2016</td>\n",
              "      <td>14</td>\n",
              "      <td>14</td>\n",
              "      <td>9.03</td>\n",
              "      <td>0</td>\n",
              "      <td>0</td>\n",
              "      <td>0</td>\n",
              "      <td>0</td>\n",
              "      <td>0</td>\n",
              "      <td>1</td>\n",
              "      <td>0</td>\n",
              "      <td>0</td>\n",
              "      <td>0</td>\n",
              "      <td>0</td>\n",
              "      <td>0</td>\n",
              "      <td>1</td>\n",
              "      <td>0</td>\n",
              "    </tr>\n",
              "  </tbody>\n",
              "</table>\n",
              "<p>1242337 rows × 30 columns</p>\n",
              "</div>\n",
              "      <button class=\"colab-df-convert\" onclick=\"convertToInteractive('df-f21f3d21-3965-4e04-889b-592212143c30')\"\n",
              "              title=\"Convert this dataframe to an interactive table.\"\n",
              "              style=\"display:none;\">\n",
              "        \n",
              "  <svg xmlns=\"http://www.w3.org/2000/svg\" height=\"24px\"viewBox=\"0 0 24 24\"\n",
              "       width=\"24px\">\n",
              "    <path d=\"M0 0h24v24H0V0z\" fill=\"none\"/>\n",
              "    <path d=\"M18.56 5.44l.94 2.06.94-2.06 2.06-.94-2.06-.94-.94-2.06-.94 2.06-2.06.94zm-11 1L8.5 8.5l.94-2.06 2.06-.94-2.06-.94L8.5 2.5l-.94 2.06-2.06.94zm10 10l.94 2.06.94-2.06 2.06-.94-2.06-.94-.94-2.06-.94 2.06-2.06.94z\"/><path d=\"M17.41 7.96l-1.37-1.37c-.4-.4-.92-.59-1.43-.59-.52 0-1.04.2-1.43.59L10.3 9.45l-7.72 7.72c-.78.78-.78 2.05 0 2.83L4 21.41c.39.39.9.59 1.41.59.51 0 1.02-.2 1.41-.59l7.78-7.78 2.81-2.81c.8-.78.8-2.07 0-2.86zM5.41 20L4 18.59l7.72-7.72 1.47 1.35L5.41 20z\"/>\n",
              "  </svg>\n",
              "      </button>\n",
              "      \n",
              "  <style>\n",
              "    .colab-df-container {\n",
              "      display:flex;\n",
              "      flex-wrap:wrap;\n",
              "      gap: 12px;\n",
              "    }\n",
              "\n",
              "    .colab-df-convert {\n",
              "      background-color: #E8F0FE;\n",
              "      border: none;\n",
              "      border-radius: 50%;\n",
              "      cursor: pointer;\n",
              "      display: none;\n",
              "      fill: #1967D2;\n",
              "      height: 32px;\n",
              "      padding: 0 0 0 0;\n",
              "      width: 32px;\n",
              "    }\n",
              "\n",
              "    .colab-df-convert:hover {\n",
              "      background-color: #E2EBFA;\n",
              "      box-shadow: 0px 1px 2px rgba(60, 64, 67, 0.3), 0px 1px 3px 1px rgba(60, 64, 67, 0.15);\n",
              "      fill: #174EA6;\n",
              "    }\n",
              "\n",
              "    [theme=dark] .colab-df-convert {\n",
              "      background-color: #3B4455;\n",
              "      fill: #D2E3FC;\n",
              "    }\n",
              "\n",
              "    [theme=dark] .colab-df-convert:hover {\n",
              "      background-color: #434B5C;\n",
              "      box-shadow: 0px 1px 3px 1px rgba(0, 0, 0, 0.15);\n",
              "      filter: drop-shadow(0px 1px 2px rgba(0, 0, 0, 0.3));\n",
              "      fill: #FFFFFF;\n",
              "    }\n",
              "  </style>\n",
              "\n",
              "      <script>\n",
              "        const buttonEl =\n",
              "          document.querySelector('#df-f21f3d21-3965-4e04-889b-592212143c30 button.colab-df-convert');\n",
              "        buttonEl.style.display =\n",
              "          google.colab.kernel.accessAllowed ? 'block' : 'none';\n",
              "\n",
              "        async function convertToInteractive(key) {\n",
              "          const element = document.querySelector('#df-f21f3d21-3965-4e04-889b-592212143c30');\n",
              "          const dataTable =\n",
              "            await google.colab.kernel.invokeFunction('convertToInteractive',\n",
              "                                                     [key], {});\n",
              "          if (!dataTable) return;\n",
              "\n",
              "          const docLinkHtml = 'Like what you see? Visit the ' +\n",
              "            '<a target=\"_blank\" href=https://colab.research.google.com/notebooks/data_table.ipynb>data table notebook</a>'\n",
              "            + ' to learn more about interactive tables.';\n",
              "          element.innerHTML = '';\n",
              "          dataTable['output_type'] = 'display_data';\n",
              "          await google.colab.output.renderOutput(dataTable, element);\n",
              "          const docLink = document.createElement('div');\n",
              "          docLink.innerHTML = docLinkHtml;\n",
              "          element.appendChild(docLink);\n",
              "        }\n",
              "      </script>\n",
              "    </div>\n",
              "  </div>\n",
              "  "
            ]
          },
          "metadata": {},
          "execution_count": 305
        }
      ]
    },
    {
      "cell_type": "code",
      "source": [
        "from scipy.stats import zscore"
      ],
      "metadata": {
        "id": "oPrpLLHSMIwY"
      },
      "execution_count": null,
      "outputs": []
    },
    {
      "cell_type": "code",
      "source": [
        "X = df_train.drop('trip_duration',axis=1)\n",
        "Y = np.log10(df_train['trip_duration'])"
      ],
      "metadata": {
        "id": "VdMt61cnM0k4"
      },
      "execution_count": null,
      "outputs": []
    },
    {
      "cell_type": "code",
      "source": [
        "X"
      ],
      "metadata": {
        "colab": {
          "base_uri": "https://localhost:8080/",
          "height": 487
        },
        "id": "RsQNDlK3QfKG",
        "outputId": "408f300c-7a9f-468d-fc5f-3b78d45cdd77"
      },
      "execution_count": null,
      "outputs": [
        {
          "output_type": "execute_result",
          "data": {
            "text/plain": [
              "         vendor_id  passenger_count  pickup_longitude  pickup_latitude  \\\n",
              "0                2                1            -73.98            40.77   \n",
              "1                1                1            -73.98            40.74   \n",
              "2                2                1            -73.98            40.76   \n",
              "3                2                1            -74.01            40.72   \n",
              "4                2                1            -73.97            40.79   \n",
              "...            ...              ...               ...              ...   \n",
              "1354578          2                4            -73.98            40.75   \n",
              "1354579          1                1            -74.00            40.75   \n",
              "1354580          2                1            -73.96            40.77   \n",
              "1354581          1                1            -73.98            40.75   \n",
              "1354582          1                1            -73.98            40.78   \n",
              "\n",
              "         dropoff_longitude  dropoff_latitude  Distance  haversine_distance  \\\n",
              "0                   -73.96             40.77      1.22                0.93   \n",
              "1                   -74.00             40.73      1.33                1.12   \n",
              "2                   -74.01             40.71      2.10                3.97   \n",
              "3                   -74.01             40.71      0.30                0.92   \n",
              "4                   -73.97             40.78      0.20                0.74   \n",
              "...                    ...               ...       ...                 ...   \n",
              "1354578             -73.99             40.74      0.89                0.76   \n",
              "1354579             -73.97             40.80      2.33                3.76   \n",
              "1354580             -74.00             40.71      3.35                4.86   \n",
              "1354581             -73.97             40.76      0.54                0.68   \n",
              "1354582             -73.97             40.79      0.50                0.70   \n",
              "\n",
              "         manhattan_distance  pickup_month  dropoff_month  pickup_Year  \\\n",
              "0                      1.08             3              3         2016   \n",
              "1                      1.51             6              6         2016   \n",
              "2                      5.10             1              1         2016   \n",
              "3                      1.03             4              4         2016   \n",
              "4                      0.75             3              3         2016   \n",
              "...                     ...           ...            ...          ...   \n",
              "1354578                1.04             4              4         2016   \n",
              "1354579                5.01             1              1         2016   \n",
              "1354580                6.61             4              4         2016   \n",
              "1354581                0.95             1              1         2016   \n",
              "1354582                0.96             4              4         2016   \n",
              "\n",
              "         dropoff_Year  pickup_datetime_hour  dropoff_datetime_hour  Avg_speed  \\\n",
              "0                2016                    17                     17       9.62   \n",
              "1                2016                     0                      0       7.22   \n",
              "2                2016                    11                     12       3.55   \n",
              "3                2016                    19                     19       2.49   \n",
              "4                2016                    13                     13       1.70   \n",
              "...               ...                   ...                    ...        ...   \n",
              "1354578          2016                    13                     13       4.11   \n",
              "1354579          2016                     7                      7      12.82   \n",
              "1354580          2016                     6                      7      15.81   \n",
              "1354581          2016                    15                     16       5.20   \n",
              "1354582          2016                    14                     14       9.03   \n",
              "\n",
              "         store_and_fwd_flag_Y  pickup_weekday_Monday  pickup_weekday_Saturday  \\\n",
              "0                           0                      1                        0   \n",
              "1                           0                      0                        0   \n",
              "2                           0                      0                        0   \n",
              "3                           0                      0                        0   \n",
              "4                           0                      0                        1   \n",
              "...                       ...                    ...                      ...   \n",
              "1354578                     0                      0                        0   \n",
              "1354579                     0                      0                        0   \n",
              "1354580                     0                      0                        0   \n",
              "1354581                     0                      0                        0   \n",
              "1354582                     0                      0                        0   \n",
              "\n",
              "         pickup_weekday_Sunday  pickup_weekday_Thursday  \\\n",
              "0                            0                        0   \n",
              "1                            1                        0   \n",
              "2                            0                        0   \n",
              "3                            0                        0   \n",
              "4                            0                        0   \n",
              "...                        ...                      ...   \n",
              "1354578                      0                        0   \n",
              "1354579                      1                        0   \n",
              "1354580                      0                        0   \n",
              "1354581                      0                        0   \n",
              "1354582                      0                        0   \n",
              "\n",
              "         pickup_weekday_Tuesday  pickup_weekday_Wednesday  \\\n",
              "0                             0                         0   \n",
              "1                             0                         0   \n",
              "2                             1                         0   \n",
              "3                             0                         1   \n",
              "4                             0                         0   \n",
              "...                         ...                       ...   \n",
              "1354578                       0                         0   \n",
              "1354579                       0                         0   \n",
              "1354580                       0                         0   \n",
              "1354581                       1                         0   \n",
              "1354582                       1                         0   \n",
              "\n",
              "         dropoff_weekday_Monday  dropoff_weekday_Saturday  \\\n",
              "0                             1                         0   \n",
              "1                             0                         0   \n",
              "2                             0                         0   \n",
              "3                             0                         0   \n",
              "4                             0                         1   \n",
              "...                         ...                       ...   \n",
              "1354578                       0                         0   \n",
              "1354579                       0                         0   \n",
              "1354580                       0                         0   \n",
              "1354581                       0                         0   \n",
              "1354582                       0                         0   \n",
              "\n",
              "         dropoff_weekday_Sunday  dropoff_weekday_Thursday  \\\n",
              "0                             0                         0   \n",
              "1                             1                         0   \n",
              "2                             0                         0   \n",
              "3                             0                         0   \n",
              "4                             0                         0   \n",
              "...                         ...                       ...   \n",
              "1354578                       0                         0   \n",
              "1354579                       1                         0   \n",
              "1354580                       0                         0   \n",
              "1354581                       0                         0   \n",
              "1354582                       0                         0   \n",
              "\n",
              "         dropoff_weekday_Tuesday  dropoff_weekday_Wednesday  \n",
              "0                              0                          0  \n",
              "1                              0                          0  \n",
              "2                              1                          0  \n",
              "3                              0                          1  \n",
              "4                              0                          0  \n",
              "...                          ...                        ...  \n",
              "1354578                        0                          0  \n",
              "1354579                        0                          0  \n",
              "1354580                        0                          0  \n",
              "1354581                        1                          0  \n",
              "1354582                        1                          0  \n",
              "\n",
              "[1242337 rows x 29 columns]"
            ],
            "text/html": [
              "\n",
              "  <div id=\"df-a69debaf-efd6-4a49-b7c8-06631bcf6601\">\n",
              "    <div class=\"colab-df-container\">\n",
              "      <div>\n",
              "<style scoped>\n",
              "    .dataframe tbody tr th:only-of-type {\n",
              "        vertical-align: middle;\n",
              "    }\n",
              "\n",
              "    .dataframe tbody tr th {\n",
              "        vertical-align: top;\n",
              "    }\n",
              "\n",
              "    .dataframe thead th {\n",
              "        text-align: right;\n",
              "    }\n",
              "</style>\n",
              "<table border=\"1\" class=\"dataframe\">\n",
              "  <thead>\n",
              "    <tr style=\"text-align: right;\">\n",
              "      <th></th>\n",
              "      <th>vendor_id</th>\n",
              "      <th>passenger_count</th>\n",
              "      <th>pickup_longitude</th>\n",
              "      <th>pickup_latitude</th>\n",
              "      <th>dropoff_longitude</th>\n",
              "      <th>dropoff_latitude</th>\n",
              "      <th>Distance</th>\n",
              "      <th>haversine_distance</th>\n",
              "      <th>manhattan_distance</th>\n",
              "      <th>pickup_month</th>\n",
              "      <th>dropoff_month</th>\n",
              "      <th>pickup_Year</th>\n",
              "      <th>dropoff_Year</th>\n",
              "      <th>pickup_datetime_hour</th>\n",
              "      <th>dropoff_datetime_hour</th>\n",
              "      <th>Avg_speed</th>\n",
              "      <th>store_and_fwd_flag_Y</th>\n",
              "      <th>pickup_weekday_Monday</th>\n",
              "      <th>pickup_weekday_Saturday</th>\n",
              "      <th>pickup_weekday_Sunday</th>\n",
              "      <th>pickup_weekday_Thursday</th>\n",
              "      <th>pickup_weekday_Tuesday</th>\n",
              "      <th>pickup_weekday_Wednesday</th>\n",
              "      <th>dropoff_weekday_Monday</th>\n",
              "      <th>dropoff_weekday_Saturday</th>\n",
              "      <th>dropoff_weekday_Sunday</th>\n",
              "      <th>dropoff_weekday_Thursday</th>\n",
              "      <th>dropoff_weekday_Tuesday</th>\n",
              "      <th>dropoff_weekday_Wednesday</th>\n",
              "    </tr>\n",
              "  </thead>\n",
              "  <tbody>\n",
              "    <tr>\n",
              "      <th>0</th>\n",
              "      <td>2</td>\n",
              "      <td>1</td>\n",
              "      <td>-73.98</td>\n",
              "      <td>40.77</td>\n",
              "      <td>-73.96</td>\n",
              "      <td>40.77</td>\n",
              "      <td>1.22</td>\n",
              "      <td>0.93</td>\n",
              "      <td>1.08</td>\n",
              "      <td>3</td>\n",
              "      <td>3</td>\n",
              "      <td>2016</td>\n",
              "      <td>2016</td>\n",
              "      <td>17</td>\n",
              "      <td>17</td>\n",
              "      <td>9.62</td>\n",
              "      <td>0</td>\n",
              "      <td>1</td>\n",
              "      <td>0</td>\n",
              "      <td>0</td>\n",
              "      <td>0</td>\n",
              "      <td>0</td>\n",
              "      <td>0</td>\n",
              "      <td>1</td>\n",
              "      <td>0</td>\n",
              "      <td>0</td>\n",
              "      <td>0</td>\n",
              "      <td>0</td>\n",
              "      <td>0</td>\n",
              "    </tr>\n",
              "    <tr>\n",
              "      <th>1</th>\n",
              "      <td>1</td>\n",
              "      <td>1</td>\n",
              "      <td>-73.98</td>\n",
              "      <td>40.74</td>\n",
              "      <td>-74.00</td>\n",
              "      <td>40.73</td>\n",
              "      <td>1.33</td>\n",
              "      <td>1.12</td>\n",
              "      <td>1.51</td>\n",
              "      <td>6</td>\n",
              "      <td>6</td>\n",
              "      <td>2016</td>\n",
              "      <td>2016</td>\n",
              "      <td>0</td>\n",
              "      <td>0</td>\n",
              "      <td>7.22</td>\n",
              "      <td>0</td>\n",
              "      <td>0</td>\n",
              "      <td>0</td>\n",
              "      <td>1</td>\n",
              "      <td>0</td>\n",
              "      <td>0</td>\n",
              "      <td>0</td>\n",
              "      <td>0</td>\n",
              "      <td>0</td>\n",
              "      <td>1</td>\n",
              "      <td>0</td>\n",
              "      <td>0</td>\n",
              "      <td>0</td>\n",
              "    </tr>\n",
              "    <tr>\n",
              "      <th>2</th>\n",
              "      <td>2</td>\n",
              "      <td>1</td>\n",
              "      <td>-73.98</td>\n",
              "      <td>40.76</td>\n",
              "      <td>-74.01</td>\n",
              "      <td>40.71</td>\n",
              "      <td>2.10</td>\n",
              "      <td>3.97</td>\n",
              "      <td>5.10</td>\n",
              "      <td>1</td>\n",
              "      <td>1</td>\n",
              "      <td>2016</td>\n",
              "      <td>2016</td>\n",
              "      <td>11</td>\n",
              "      <td>12</td>\n",
              "      <td>3.55</td>\n",
              "      <td>0</td>\n",
              "      <td>0</td>\n",
              "      <td>0</td>\n",
              "      <td>0</td>\n",
              "      <td>0</td>\n",
              "      <td>1</td>\n",
              "      <td>0</td>\n",
              "      <td>0</td>\n",
              "      <td>0</td>\n",
              "      <td>0</td>\n",
              "      <td>0</td>\n",
              "      <td>1</td>\n",
              "      <td>0</td>\n",
              "    </tr>\n",
              "    <tr>\n",
              "      <th>3</th>\n",
              "      <td>2</td>\n",
              "      <td>1</td>\n",
              "      <td>-74.01</td>\n",
              "      <td>40.72</td>\n",
              "      <td>-74.01</td>\n",
              "      <td>40.71</td>\n",
              "      <td>0.30</td>\n",
              "      <td>0.92</td>\n",
              "      <td>1.03</td>\n",
              "      <td>4</td>\n",
              "      <td>4</td>\n",
              "      <td>2016</td>\n",
              "      <td>2016</td>\n",
              "      <td>19</td>\n",
              "      <td>19</td>\n",
              "      <td>2.49</td>\n",
              "      <td>0</td>\n",
              "      <td>0</td>\n",
              "      <td>0</td>\n",
              "      <td>0</td>\n",
              "      <td>0</td>\n",
              "      <td>0</td>\n",
              "      <td>1</td>\n",
              "      <td>0</td>\n",
              "      <td>0</td>\n",
              "      <td>0</td>\n",
              "      <td>0</td>\n",
              "      <td>0</td>\n",
              "      <td>1</td>\n",
              "    </tr>\n",
              "    <tr>\n",
              "      <th>4</th>\n",
              "      <td>2</td>\n",
              "      <td>1</td>\n",
              "      <td>-73.97</td>\n",
              "      <td>40.79</td>\n",
              "      <td>-73.97</td>\n",
              "      <td>40.78</td>\n",
              "      <td>0.20</td>\n",
              "      <td>0.74</td>\n",
              "      <td>0.75</td>\n",
              "      <td>3</td>\n",
              "      <td>3</td>\n",
              "      <td>2016</td>\n",
              "      <td>2016</td>\n",
              "      <td>13</td>\n",
              "      <td>13</td>\n",
              "      <td>1.70</td>\n",
              "      <td>0</td>\n",
              "      <td>0</td>\n",
              "      <td>1</td>\n",
              "      <td>0</td>\n",
              "      <td>0</td>\n",
              "      <td>0</td>\n",
              "      <td>0</td>\n",
              "      <td>0</td>\n",
              "      <td>1</td>\n",
              "      <td>0</td>\n",
              "      <td>0</td>\n",
              "      <td>0</td>\n",
              "      <td>0</td>\n",
              "    </tr>\n",
              "    <tr>\n",
              "      <th>...</th>\n",
              "      <td>...</td>\n",
              "      <td>...</td>\n",
              "      <td>...</td>\n",
              "      <td>...</td>\n",
              "      <td>...</td>\n",
              "      <td>...</td>\n",
              "      <td>...</td>\n",
              "      <td>...</td>\n",
              "      <td>...</td>\n",
              "      <td>...</td>\n",
              "      <td>...</td>\n",
              "      <td>...</td>\n",
              "      <td>...</td>\n",
              "      <td>...</td>\n",
              "      <td>...</td>\n",
              "      <td>...</td>\n",
              "      <td>...</td>\n",
              "      <td>...</td>\n",
              "      <td>...</td>\n",
              "      <td>...</td>\n",
              "      <td>...</td>\n",
              "      <td>...</td>\n",
              "      <td>...</td>\n",
              "      <td>...</td>\n",
              "      <td>...</td>\n",
              "      <td>...</td>\n",
              "      <td>...</td>\n",
              "      <td>...</td>\n",
              "      <td>...</td>\n",
              "    </tr>\n",
              "    <tr>\n",
              "      <th>1354578</th>\n",
              "      <td>2</td>\n",
              "      <td>4</td>\n",
              "      <td>-73.98</td>\n",
              "      <td>40.75</td>\n",
              "      <td>-73.99</td>\n",
              "      <td>40.74</td>\n",
              "      <td>0.89</td>\n",
              "      <td>0.76</td>\n",
              "      <td>1.04</td>\n",
              "      <td>4</td>\n",
              "      <td>4</td>\n",
              "      <td>2016</td>\n",
              "      <td>2016</td>\n",
              "      <td>13</td>\n",
              "      <td>13</td>\n",
              "      <td>4.11</td>\n",
              "      <td>0</td>\n",
              "      <td>0</td>\n",
              "      <td>0</td>\n",
              "      <td>0</td>\n",
              "      <td>0</td>\n",
              "      <td>0</td>\n",
              "      <td>0</td>\n",
              "      <td>0</td>\n",
              "      <td>0</td>\n",
              "      <td>0</td>\n",
              "      <td>0</td>\n",
              "      <td>0</td>\n",
              "      <td>0</td>\n",
              "    </tr>\n",
              "    <tr>\n",
              "      <th>1354579</th>\n",
              "      <td>1</td>\n",
              "      <td>1</td>\n",
              "      <td>-74.00</td>\n",
              "      <td>40.75</td>\n",
              "      <td>-73.97</td>\n",
              "      <td>40.80</td>\n",
              "      <td>2.33</td>\n",
              "      <td>3.76</td>\n",
              "      <td>5.01</td>\n",
              "      <td>1</td>\n",
              "      <td>1</td>\n",
              "      <td>2016</td>\n",
              "      <td>2016</td>\n",
              "      <td>7</td>\n",
              "      <td>7</td>\n",
              "      <td>12.82</td>\n",
              "      <td>0</td>\n",
              "      <td>0</td>\n",
              "      <td>0</td>\n",
              "      <td>1</td>\n",
              "      <td>0</td>\n",
              "      <td>0</td>\n",
              "      <td>0</td>\n",
              "      <td>0</td>\n",
              "      <td>0</td>\n",
              "      <td>1</td>\n",
              "      <td>0</td>\n",
              "      <td>0</td>\n",
              "      <td>0</td>\n",
              "    </tr>\n",
              "    <tr>\n",
              "      <th>1354580</th>\n",
              "      <td>2</td>\n",
              "      <td>1</td>\n",
              "      <td>-73.96</td>\n",
              "      <td>40.77</td>\n",
              "      <td>-74.00</td>\n",
              "      <td>40.71</td>\n",
              "      <td>3.35</td>\n",
              "      <td>4.86</td>\n",
              "      <td>6.61</td>\n",
              "      <td>4</td>\n",
              "      <td>4</td>\n",
              "      <td>2016</td>\n",
              "      <td>2016</td>\n",
              "      <td>6</td>\n",
              "      <td>7</td>\n",
              "      <td>15.81</td>\n",
              "      <td>0</td>\n",
              "      <td>0</td>\n",
              "      <td>0</td>\n",
              "      <td>0</td>\n",
              "      <td>0</td>\n",
              "      <td>0</td>\n",
              "      <td>0</td>\n",
              "      <td>0</td>\n",
              "      <td>0</td>\n",
              "      <td>0</td>\n",
              "      <td>0</td>\n",
              "      <td>0</td>\n",
              "      <td>0</td>\n",
              "    </tr>\n",
              "    <tr>\n",
              "      <th>1354581</th>\n",
              "      <td>1</td>\n",
              "      <td>1</td>\n",
              "      <td>-73.98</td>\n",
              "      <td>40.75</td>\n",
              "      <td>-73.97</td>\n",
              "      <td>40.76</td>\n",
              "      <td>0.54</td>\n",
              "      <td>0.68</td>\n",
              "      <td>0.95</td>\n",
              "      <td>1</td>\n",
              "      <td>1</td>\n",
              "      <td>2016</td>\n",
              "      <td>2016</td>\n",
              "      <td>15</td>\n",
              "      <td>16</td>\n",
              "      <td>5.20</td>\n",
              "      <td>0</td>\n",
              "      <td>0</td>\n",
              "      <td>0</td>\n",
              "      <td>0</td>\n",
              "      <td>0</td>\n",
              "      <td>1</td>\n",
              "      <td>0</td>\n",
              "      <td>0</td>\n",
              "      <td>0</td>\n",
              "      <td>0</td>\n",
              "      <td>0</td>\n",
              "      <td>1</td>\n",
              "      <td>0</td>\n",
              "    </tr>\n",
              "    <tr>\n",
              "      <th>1354582</th>\n",
              "      <td>1</td>\n",
              "      <td>1</td>\n",
              "      <td>-73.98</td>\n",
              "      <td>40.78</td>\n",
              "      <td>-73.97</td>\n",
              "      <td>40.79</td>\n",
              "      <td>0.50</td>\n",
              "      <td>0.70</td>\n",
              "      <td>0.96</td>\n",
              "      <td>4</td>\n",
              "      <td>4</td>\n",
              "      <td>2016</td>\n",
              "      <td>2016</td>\n",
              "      <td>14</td>\n",
              "      <td>14</td>\n",
              "      <td>9.03</td>\n",
              "      <td>0</td>\n",
              "      <td>0</td>\n",
              "      <td>0</td>\n",
              "      <td>0</td>\n",
              "      <td>0</td>\n",
              "      <td>1</td>\n",
              "      <td>0</td>\n",
              "      <td>0</td>\n",
              "      <td>0</td>\n",
              "      <td>0</td>\n",
              "      <td>0</td>\n",
              "      <td>1</td>\n",
              "      <td>0</td>\n",
              "    </tr>\n",
              "  </tbody>\n",
              "</table>\n",
              "<p>1242337 rows × 29 columns</p>\n",
              "</div>\n",
              "      <button class=\"colab-df-convert\" onclick=\"convertToInteractive('df-a69debaf-efd6-4a49-b7c8-06631bcf6601')\"\n",
              "              title=\"Convert this dataframe to an interactive table.\"\n",
              "              style=\"display:none;\">\n",
              "        \n",
              "  <svg xmlns=\"http://www.w3.org/2000/svg\" height=\"24px\"viewBox=\"0 0 24 24\"\n",
              "       width=\"24px\">\n",
              "    <path d=\"M0 0h24v24H0V0z\" fill=\"none\"/>\n",
              "    <path d=\"M18.56 5.44l.94 2.06.94-2.06 2.06-.94-2.06-.94-.94-2.06-.94 2.06-2.06.94zm-11 1L8.5 8.5l.94-2.06 2.06-.94-2.06-.94L8.5 2.5l-.94 2.06-2.06.94zm10 10l.94 2.06.94-2.06 2.06-.94-2.06-.94-.94-2.06-.94 2.06-2.06.94z\"/><path d=\"M17.41 7.96l-1.37-1.37c-.4-.4-.92-.59-1.43-.59-.52 0-1.04.2-1.43.59L10.3 9.45l-7.72 7.72c-.78.78-.78 2.05 0 2.83L4 21.41c.39.39.9.59 1.41.59.51 0 1.02-.2 1.41-.59l7.78-7.78 2.81-2.81c.8-.78.8-2.07 0-2.86zM5.41 20L4 18.59l7.72-7.72 1.47 1.35L5.41 20z\"/>\n",
              "  </svg>\n",
              "      </button>\n",
              "      \n",
              "  <style>\n",
              "    .colab-df-container {\n",
              "      display:flex;\n",
              "      flex-wrap:wrap;\n",
              "      gap: 12px;\n",
              "    }\n",
              "\n",
              "    .colab-df-convert {\n",
              "      background-color: #E8F0FE;\n",
              "      border: none;\n",
              "      border-radius: 50%;\n",
              "      cursor: pointer;\n",
              "      display: none;\n",
              "      fill: #1967D2;\n",
              "      height: 32px;\n",
              "      padding: 0 0 0 0;\n",
              "      width: 32px;\n",
              "    }\n",
              "\n",
              "    .colab-df-convert:hover {\n",
              "      background-color: #E2EBFA;\n",
              "      box-shadow: 0px 1px 2px rgba(60, 64, 67, 0.3), 0px 1px 3px 1px rgba(60, 64, 67, 0.15);\n",
              "      fill: #174EA6;\n",
              "    }\n",
              "\n",
              "    [theme=dark] .colab-df-convert {\n",
              "      background-color: #3B4455;\n",
              "      fill: #D2E3FC;\n",
              "    }\n",
              "\n",
              "    [theme=dark] .colab-df-convert:hover {\n",
              "      background-color: #434B5C;\n",
              "      box-shadow: 0px 1px 3px 1px rgba(0, 0, 0, 0.15);\n",
              "      filter: drop-shadow(0px 1px 2px rgba(0, 0, 0, 0.3));\n",
              "      fill: #FFFFFF;\n",
              "    }\n",
              "  </style>\n",
              "\n",
              "      <script>\n",
              "        const buttonEl =\n",
              "          document.querySelector('#df-a69debaf-efd6-4a49-b7c8-06631bcf6601 button.colab-df-convert');\n",
              "        buttonEl.style.display =\n",
              "          google.colab.kernel.accessAllowed ? 'block' : 'none';\n",
              "\n",
              "        async function convertToInteractive(key) {\n",
              "          const element = document.querySelector('#df-a69debaf-efd6-4a49-b7c8-06631bcf6601');\n",
              "          const dataTable =\n",
              "            await google.colab.kernel.invokeFunction('convertToInteractive',\n",
              "                                                     [key], {});\n",
              "          if (!dataTable) return;\n",
              "\n",
              "          const docLinkHtml = 'Like what you see? Visit the ' +\n",
              "            '<a target=\"_blank\" href=https://colab.research.google.com/notebooks/data_table.ipynb>data table notebook</a>'\n",
              "            + ' to learn more about interactive tables.';\n",
              "          element.innerHTML = '';\n",
              "          dataTable['output_type'] = 'display_data';\n",
              "          await google.colab.output.renderOutput(dataTable, element);\n",
              "          const docLink = document.createElement('div');\n",
              "          docLink.innerHTML = docLinkHtml;\n",
              "          element.appendChild(docLink);\n",
              "        }\n",
              "      </script>\n",
              "    </div>\n",
              "  </div>\n",
              "  "
            ]
          },
          "metadata": {},
          "execution_count": 343
        }
      ]
    },
    {
      "cell_type": "code",
      "source": [
        "Y"
      ],
      "metadata": {
        "colab": {
          "base_uri": "https://localhost:8080/"
        },
        "id": "5DBuPP_-UMcd",
        "outputId": "b2f586d1-9a8e-4fea-ca2a-ce58f78c9565"
      },
      "execution_count": null,
      "outputs": [
        {
          "output_type": "execute_result",
          "data": {
            "text/plain": [
              "0         2.66\n",
              "1         2.82\n",
              "2         3.33\n",
              "3         2.63\n",
              "4         2.64\n",
              "          ... \n",
              "1354578   2.89\n",
              "1354579   2.82\n",
              "1354580   2.88\n",
              "1354581   2.57\n",
              "1354582   2.30\n",
              "Name: trip_duration, Length: 1242337, dtype: float64"
            ]
          },
          "metadata": {},
          "execution_count": 345
        }
      ]
    },
    {
      "cell_type": "code",
      "source": [
        "# Splitting the dataset into the Training set and Test set\n",
        "\n",
        "X_train, X_test, Y_train, Y_test = train_test_split(X, Y, test_size = 0.2, random_state = 0)"
      ],
      "metadata": {
        "id": "cyfk06PTZZe5"
      },
      "execution_count": null,
      "outputs": []
    },
    {
      "cell_type": "code",
      "source": [
        "# Transforming data\n",
        "\n",
        "scaler = MinMaxScaler()\n",
        "X_train = scaler.fit_transform(X_train)\n",
        "X_test = scaler.transform(X_test)"
      ],
      "metadata": {
        "id": "21QAw8P_ZdI2"
      },
      "execution_count": null,
      "outputs": []
    },
    {
      "cell_type": "code",
      "source": [
        "# Fitting Multiple Linear Regression to the Training set\n",
        "\n",
        "regressor = LinearRegression()\n",
        "regressor.fit(X_train, Y_train)"
      ],
      "metadata": {
        "colab": {
          "base_uri": "https://localhost:8080/"
        },
        "id": "ZSRZhF1mZgg_",
        "outputId": "28a93c25-81e0-4422-93f4-82600d92a794"
      },
      "execution_count": null,
      "outputs": [
        {
          "output_type": "execute_result",
          "data": {
            "text/plain": [
              "LinearRegression()"
            ]
          },
          "metadata": {},
          "execution_count": 348
        }
      ]
    },
    {
      "cell_type": "code",
      "source": [
        "# Predicting the Train set results\n",
        "\n",
        "Y_pred_train = regressor.predict(X_train)"
      ],
      "metadata": {
        "id": "kDO9QvgIZjhg"
      },
      "execution_count": null,
      "outputs": []
    },
    {
      "cell_type": "code",
      "source": [
        "y_pred_train"
      ],
      "metadata": {
        "colab": {
          "base_uri": "https://localhost:8080/"
        },
        "id": "EQ0u2tq3ZpkX",
        "outputId": "6e77eeea-93fc-4257-ece6-0d24e728e5c5"
      },
      "execution_count": null,
      "outputs": [
        {
          "output_type": "execute_result",
          "data": {
            "text/plain": [
              "array([2.42762556, 2.73744193, 2.26598544, ..., 2.73835095, 2.85017155,\n",
              "       2.93039392])"
            ]
          },
          "metadata": {},
          "execution_count": 350
        }
      ]
    },
    {
      "cell_type": "code",
      "source": [
        "# Predicting the Test set results\n",
        "\n",
        "Y_pred_test = regressor.predict(X_test)"
      ],
      "metadata": {
        "id": "0DwckjyJZsgT"
      },
      "execution_count": null,
      "outputs": []
    },
    {
      "cell_type": "code",
      "source": [
        "# r2 score of train set\n",
        "\n",
        "r2_linear_train = r2_score(Y_train, Y_pred_train)"
      ],
      "metadata": {
        "id": "MBVQQXPFZx47"
      },
      "execution_count": null,
      "outputs": []
    },
    {
      "cell_type": "code",
      "source": [
        "r2_linear_train"
      ],
      "metadata": {
        "colab": {
          "base_uri": "https://localhost:8080/"
        },
        "id": "jhhXQCWnZ2FO",
        "outputId": "4d8594aa-bc78-48c6-af77-9e00c4dbe4a3"
      },
      "execution_count": null,
      "outputs": [
        {
          "output_type": "execute_result",
          "data": {
            "text/plain": [
              "0.7284954240811718"
            ]
          },
          "metadata": {},
          "execution_count": 353
        }
      ]
    },
    {
      "cell_type": "code",
      "source": [
        "r2_linear_test = r2_score(Y_test, Y_pred_test)"
      ],
      "metadata": {
        "id": "rBpcDfo5Z433"
      },
      "execution_count": null,
      "outputs": []
    },
    {
      "cell_type": "code",
      "source": [
        "r2_linear_test"
      ],
      "metadata": {
        "colab": {
          "base_uri": "https://localhost:8080/"
        },
        "id": "2N03qGI-Z83b",
        "outputId": "d231a1c6-12e5-4b82-83ca-d232269b612c"
      },
      "execution_count": null,
      "outputs": [
        {
          "output_type": "execute_result",
          "data": {
            "text/plain": [
              "0.7280996490528686"
            ]
          },
          "metadata": {},
          "execution_count": 355
        }
      ]
    },
    {
      "cell_type": "code",
      "source": [
        "MSE  = mean_squared_error(Y_test,Y_pred_test)\n",
        "print(\"MSE :\" , MSE)\n",
        "\n",
        "RMSE = np.sqrt(MSE)\n",
        "print(\"RMSE :\" ,RMSE)\n",
        "\n",
        "r2_linear_test = r2_score(Y_test,Y_pred_test)\n",
        "print(\"R2 :\" ,r2_linear_test)\n",
        "print(\"Adjusted R2 : \",1-(1-r2_score(Y_test,Y_pred_test))*((X_test.shape[0]-1)/(X_test.shape[0]-X_test.shape[1]-1)))"
      ],
      "metadata": {
        "colab": {
          "base_uri": "https://localhost:8080/"
        },
        "id": "60iZLj2LZ_aK",
        "outputId": "2b45d539-8077-4eca-e555-85381b70c30a"
      },
      "execution_count": null,
      "outputs": [
        {
          "output_type": "stream",
          "name": "stdout",
          "text": [
            "MSE : 0.021357273244966234\n",
            "RMSE : 0.14614127837461335\n",
            "R2 : 0.7280996490528686\n",
            "Adjusted R2 :  0.7280679103084838\n"
          ]
        }
      ]
    },
    {
      "cell_type": "markdown",
      "source": [
        "#lasso regression"
      ],
      "metadata": {
        "id": "tAnqJN3DaPs0"
      }
    },
    {
      "cell_type": "code",
      "source": [
        "from sklearn.linear_model import Lasso\n",
        "from sklearn.model_selection import GridSearchCV\n",
        "lasso = Lasso()\n",
        "parameters = {'alpha': [0.8,1,10,20,40,80,100,300,700,1000]}\n",
        "lasso_regressor = GridSearchCV(lasso, parameters, scoring='neg_mean_squared_error', cv=5)\n",
        "lasso_regressor.fit(X_train, Y_train)"
      ],
      "metadata": {
        "colab": {
          "base_uri": "https://localhost:8080/"
        },
        "id": "SKWsMlLUaEZN",
        "outputId": "299a9666-c6d4-4009-8219-c8784313f7f6"
      },
      "execution_count": null,
      "outputs": [
        {
          "output_type": "execute_result",
          "data": {
            "text/plain": [
              "GridSearchCV(cv=5, estimator=Lasso(),\n",
              "             param_grid={'alpha': [0.8, 1, 10, 20, 40, 80, 100, 300, 700,\n",
              "                                   1000]},\n",
              "             scoring='neg_mean_squared_error')"
            ]
          },
          "metadata": {},
          "execution_count": 358
        }
      ]
    },
    {
      "cell_type": "code",
      "source": [
        "print(\"The best fit alpha value is found out to be :\" ,lasso_regressor.best_params_)\n",
        "print(\"\\nUsing \",lasso_regressor.best_params_, \" the negative mean squared error is: \", lasso_regressor.best_score_)"
      ],
      "metadata": {
        "colab": {
          "base_uri": "https://localhost:8080/"
        },
        "id": "q3YTYq74aIOP",
        "outputId": "7c7b4ae0-ea8e-4a9b-9687-a831bc33ba2e"
      },
      "execution_count": null,
      "outputs": [
        {
          "output_type": "stream",
          "name": "stdout",
          "text": [
            "The best fit alpha value is found out to be : {'alpha': 0.8}\n",
            "\n",
            "Using  {'alpha': 0.8}  the negative mean squared error is:  -0.07860974250512912\n"
          ]
        }
      ]
    },
    {
      "cell_type": "code",
      "source": [
        "Y_pred_lasso = lasso_regressor.predict(X_test)"
      ],
      "metadata": {
        "id": "SB-Qoypwac-l"
      },
      "execution_count": null,
      "outputs": []
    },
    {
      "cell_type": "code",
      "source": [
        "Y_pred_lasso"
      ],
      "metadata": {
        "colab": {
          "base_uri": "https://localhost:8080/"
        },
        "id": "DXzbjkXvaeyk",
        "outputId": "3dfe9eb8-67a1-4d55-c795-60042b291dc7"
      },
      "execution_count": null,
      "outputs": [
        {
          "output_type": "execute_result",
          "data": {
            "text/plain": [
              "array([2.77876917, 2.77876917, 2.77876917, ..., 2.77876917, 2.77876917,\n",
              "       2.77876917])"
            ]
          },
          "metadata": {},
          "execution_count": 361
        }
      ]
    },
    {
      "cell_type": "code",
      "source": [
        "MSE  = mean_squared_error(Y_test,Y_pred_lasso)\n",
        "print(\"MSE :\" , MSE)\n",
        "\n",
        "RMSE = np.sqrt(MSE)\n",
        "print(\"RMSE :\" ,RMSE)\n",
        "\n",
        "r2_lasso_test = r2_score(Y_test,Y_pred_lasso)\n",
        "print(\"R2 :\" ,r2_lasso_test)\n",
        "print(\"Adjusted R2 : \",1-(1-r2_score(Y_test,Y_pred_lasso))*((X_test.shape[0]-1)/(X_test.shape[0]-X_test.shape[1]-1)))"
      ],
      "metadata": {
        "colab": {
          "base_uri": "https://localhost:8080/"
        },
        "id": "2wNBhEUqahOe",
        "outputId": "2e8f2b79-63f2-4f6c-8e06-f9c7ee43bdc8"
      },
      "execution_count": null,
      "outputs": [
        {
          "output_type": "stream",
          "name": "stdout",
          "text": [
            "MSE : 0.07854816528133536\n",
            "RMSE : 0.28026445597209676\n",
            "R2 : -2.1598362653918457e-08\n",
            "Adjusted R2 :  -0.00011675092570517798\n"
          ]
        }
      ]
    },
    {
      "cell_type": "markdown",
      "source": [
        "##Ridge"
      ],
      "metadata": {
        "id": "diP7RcCLyjzX"
      }
    },
    {
      "cell_type": "code",
      "source": [
        "# training model\n",
        "\n",
        "from sklearn.linear_model import Ridge\n",
        "ridge = Ridge()\n",
        "parameters = {'alpha': [1,0.001,10,20,35,60,70,100,800,1200]}\n",
        "ridge_regressor = GridSearchCV(ridge, parameters, scoring='neg_mean_squared_error', cv=3)\n",
        "ridge_regressor.fit(X_train,Y_train)"
      ],
      "metadata": {
        "colab": {
          "base_uri": "https://localhost:8080/"
        },
        "id": "Auol8Z_7as3p",
        "outputId": "2278ec3c-7da7-4499-f649-34747c612d2f"
      },
      "execution_count": null,
      "outputs": [
        {
          "output_type": "execute_result",
          "data": {
            "text/plain": [
              "GridSearchCV(cv=3, estimator=Ridge(),\n",
              "             param_grid={'alpha': [1, 0.001, 10, 20, 35, 60, 70, 100, 800,\n",
              "                                   1200]},\n",
              "             scoring='neg_mean_squared_error')"
            ]
          },
          "metadata": {},
          "execution_count": 363
        }
      ]
    },
    {
      "cell_type": "code",
      "source": [
        "print(\"The best fit alpha value is found out to be :\" ,ridge_regressor.best_params_)\n",
        "print(\"\\nUsing \",ridge_regressor.best_params_, \" the negative mean squared error is: \", ridge_regressor.best_score_)"
      ],
      "metadata": {
        "colab": {
          "base_uri": "https://localhost:8080/"
        },
        "id": "Hrd_5x7yamFN",
        "outputId": "a36da967-1bed-4615-cfd6-d8b3730b2dfa"
      },
      "execution_count": null,
      "outputs": [
        {
          "output_type": "stream",
          "name": "stdout",
          "text": [
            "The best fit alpha value is found out to be : {'alpha': 0.001}\n",
            "\n",
            "Using  {'alpha': 0.001}  the negative mean squared error is:  -0.021344223147593124\n"
          ]
        }
      ]
    },
    {
      "cell_type": "code",
      "source": [
        "Y_pred_ridge = ridge_regressor.predict(X_test)"
      ],
      "metadata": {
        "id": "794KhlShayhe"
      },
      "execution_count": null,
      "outputs": []
    },
    {
      "cell_type": "code",
      "source": [
        "# evaluating metrics\n",
        "\n",
        "MSE  = mean_squared_error(Y_test,Y_pred_ridge)\n",
        "print(\"MSE :\" , MSE)\n",
        "\n",
        "RMSE = np.sqrt(MSE)\n",
        "print(\"RMSE :\" ,RMSE)\n",
        "\n",
        "r2_ridge_test = r2_score(Y_test,Y_pred_ridge)\n",
        "print(\"R2 :\" ,r2_ridge_test)\n",
        "print(\"Adjusted R2 : \",1-(1-r2_score(Y_test,Y_pred_lasso))*((X_test.shape[0]-1)/(X_test.shape[0]-X_test.shape[1]-1)))"
      ],
      "metadata": {
        "colab": {
          "base_uri": "https://localhost:8080/"
        },
        "id": "GeXTEP-Ca2y-",
        "outputId": "08b895b7-a380-410f-e968-793095d7bdb9"
      },
      "execution_count": null,
      "outputs": [
        {
          "output_type": "stream",
          "name": "stdout",
          "text": [
            "MSE : 0.02135727327155308\n",
            "RMSE : 0.14614127846557617\n",
            "R2 : 0.7280996487143903\n",
            "Adjusted R2 :  -0.00011675092570517798\n"
          ]
        }
      ]
    },
    {
      "cell_type": "markdown",
      "source": [
        "##Descision tree"
      ],
      "metadata": {
        "id": "OKV2oQ3bbCLh"
      }
    },
    {
      "cell_type": "code",
      "source": [
        "from sklearn.tree import DecisionTreeRegressor\n",
        "decisionTree = DecisionTreeRegressor()\n",
        "\n",
        "param = {'max_depth' : [1,2,6,7,3]}\n",
        "\n",
        "gridSearch_decisionTree=GridSearchCV(decisionTree,param,scoring='r2',cv=5)\n",
        "gridSearch_decisionTree.fit(X_train,Y_train)\n",
        "\n",
        "\n",
        "best_DecisionTree=gridSearch_decisionTree.best_estimator_\n",
        "bestDecisionTree_testScore=best_DecisionTree.score(X_test,Y_test)\n",
        "r2_decision_test = best_DecisionTree.score(X_test,Y_test)"
      ],
      "metadata": {
        "id": "hBTwyTSFbBk5"
      },
      "execution_count": null,
      "outputs": []
    },
    {
      "cell_type": "code",
      "source": [
        "print(f\"The best Decision Tree R2 score is {gridSearch_decisionTree.best_score_} with max depth {gridSearch_decisionTree.best_params_['max_depth']}\")\n",
        "print('\\n')\n",
        "print(f\"The best R2 test score is : {bestDecisionTree_testScore} with max depth = {gridSearch_decisionTree.best_params_['max_depth']}\")"
      ],
      "metadata": {
        "colab": {
          "base_uri": "https://localhost:8080/"
        },
        "id": "lIZQXohpa5-5",
        "outputId": "d0957515-0bfa-4b1b-d67c-d1512ed858f4"
      },
      "execution_count": null,
      "outputs": [
        {
          "output_type": "stream",
          "name": "stdout",
          "text": [
            "The best Decision Tree R2 score is 0.9415831944818749 with max depth 7\n",
            "\n",
            "\n",
            "The best R2 test score is : 0.9421135437544729 with max depth = 7\n"
          ]
        }
      ]
    }
  ],
  "metadata": {
    "colab": {
      "collapsed_sections": [],
      "name": " NYC Taxi Trip Time Prediction - Capstone Project.ipynb",
      "provenance": [],
      "include_colab_link": true
    },
    "kernelspec": {
      "display_name": "Python 3",
      "language": "python",
      "name": "python3"
    },
    "language_info": {
      "codemirror_mode": {
        "name": "ipython",
        "version": 3
      },
      "file_extension": ".py",
      "mimetype": "text/x-python",
      "name": "python",
      "nbconvert_exporter": "python",
      "pygments_lexer": "ipython3",
      "version": "3.6.6"
    }
  },
  "nbformat": 4,
  "nbformat_minor": 0
}